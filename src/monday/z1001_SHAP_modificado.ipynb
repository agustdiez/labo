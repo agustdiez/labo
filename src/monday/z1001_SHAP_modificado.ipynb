{
 "cells": [
  {
   "cell_type": "markdown",
   "metadata": {},
   "source": [
    "# SHAP Values\n",
    "\n",
    "Veremos brevemente un modelo de interpretabilidad para modelos complejos de machine learning como es un LGBM.\n",
    "\n",
    "El uso de **python** para esta exploración se debe a la madurez encontrada en las librerías en mi búsqueda.\n",
    "\n",
    "Empezamos con la carga de los módulos necesarios:"
   ]
  },
  {
   "cell_type": "code",
   "execution_count": 1,
   "metadata": {},
   "outputs": [],
   "source": [
    "import pandas as pd\n",
    "import numpy as np\n",
    "\n",
    "import lightgbm as lgb"
   ]
  },
  {
   "cell_type": "markdown",
   "metadata": {},
   "source": [
    "### Plot de evolucion de clientes que se bajan"
   ]
  },
  {
   "cell_type": "code",
   "execution_count": 30,
   "metadata": {},
   "outputs": [
    {
     "ename": "KeyboardInterrupt",
     "evalue": "",
     "output_type": "error",
     "traceback": [
      "\u001b[1;31m---------------------------------------------------------------------------\u001b[0m",
      "\u001b[1;31mKeyboardInterrupt\u001b[0m                         Traceback (most recent call last)",
      "\u001b[1;32md:\\OneDrive\\Personal\\Maestria Data Mining\\economia_finanzas\\labo\\src\\monday\\z1001_SHAP_modificado.ipynb Cell 4\u001b[0m in \u001b[0;36m<cell line: 3>\u001b[1;34m()\u001b[0m\n\u001b[0;32m      <a href='vscode-notebook-cell:/d%3A/OneDrive/Personal/Maestria%20Data%20Mining/economia_finanzas/labo/src/monday/z1001_SHAP_modificado.ipynb#X45sZmlsZQ%3D%3D?line=0'>1</a>\u001b[0m \u001b[39m# Importo dataset total\u001b[39;00m\n\u001b[1;32m----> <a href='vscode-notebook-cell:/d%3A/OneDrive/Personal/Maestria%20Data%20Mining/economia_finanzas/labo/src/monday/z1001_SHAP_modificado.ipynb#X45sZmlsZQ%3D%3D?line=2'>3</a>\u001b[0m df \u001b[39m=\u001b[39m pd\u001b[39m.\u001b[39;49mread_csv(\u001b[39m\"\u001b[39;49m\u001b[39mD:\u001b[39;49m\u001b[39m\\\u001b[39;49m\u001b[39mOneDrive\u001b[39;49m\u001b[39m\\\u001b[39;49m\u001b[39mPersonal\u001b[39;49m\u001b[39m\\\u001b[39;49m\u001b[39mMaestria Data Mining\u001b[39;49m\u001b[39m\\\u001b[39;49m\u001b[39meconomia_finanzas\u001b[39;49m\u001b[39m\\\u001b[39;49m\u001b[39mdatasets\u001b[39;49m\u001b[39m\\\u001b[39;49m\u001b[39mcompetencia3_2022.csv.gz\u001b[39;49m\u001b[39m\"\u001b[39;49m)\n\u001b[0;32m      <a href='vscode-notebook-cell:/d%3A/OneDrive/Personal/Maestria%20Data%20Mining/economia_finanzas/labo/src/monday/z1001_SHAP_modificado.ipynb#X45sZmlsZQ%3D%3D?line=4'>5</a>\u001b[0m df \u001b[39m=\u001b[39m df\u001b[39m.\u001b[39mcopy()\n",
      "File \u001b[1;32mc:\\Users\\agust\\AppData\\Local\\Programs\\Python\\Python310\\lib\\site-packages\\pandas\\util\\_decorators.py:211\u001b[0m, in \u001b[0;36mdeprecate_kwarg.<locals>._deprecate_kwarg.<locals>.wrapper\u001b[1;34m(*args, **kwargs)\u001b[0m\n\u001b[0;32m    209\u001b[0m     \u001b[39melse\u001b[39;00m:\n\u001b[0;32m    210\u001b[0m         kwargs[new_arg_name] \u001b[39m=\u001b[39m new_arg_value\n\u001b[1;32m--> 211\u001b[0m \u001b[39mreturn\u001b[39;00m func(\u001b[39m*\u001b[39margs, \u001b[39m*\u001b[39m\u001b[39m*\u001b[39mkwargs)\n",
      "File \u001b[1;32mc:\\Users\\agust\\AppData\\Local\\Programs\\Python\\Python310\\lib\\site-packages\\pandas\\util\\_decorators.py:317\u001b[0m, in \u001b[0;36mdeprecate_nonkeyword_arguments.<locals>.decorate.<locals>.wrapper\u001b[1;34m(*args, **kwargs)\u001b[0m\n\u001b[0;32m    311\u001b[0m \u001b[39mif\u001b[39;00m \u001b[39mlen\u001b[39m(args) \u001b[39m>\u001b[39m num_allow_args:\n\u001b[0;32m    312\u001b[0m     warnings\u001b[39m.\u001b[39mwarn(\n\u001b[0;32m    313\u001b[0m         msg\u001b[39m.\u001b[39mformat(arguments\u001b[39m=\u001b[39marguments),\n\u001b[0;32m    314\u001b[0m         \u001b[39mFutureWarning\u001b[39;00m,\n\u001b[0;32m    315\u001b[0m         stacklevel\u001b[39m=\u001b[39mfind_stack_level(inspect\u001b[39m.\u001b[39mcurrentframe()),\n\u001b[0;32m    316\u001b[0m     )\n\u001b[1;32m--> 317\u001b[0m \u001b[39mreturn\u001b[39;00m func(\u001b[39m*\u001b[39margs, \u001b[39m*\u001b[39m\u001b[39m*\u001b[39mkwargs)\n",
      "File \u001b[1;32mc:\\Users\\agust\\AppData\\Local\\Programs\\Python\\Python310\\lib\\site-packages\\pandas\\io\\parsers\\readers.py:950\u001b[0m, in \u001b[0;36mread_csv\u001b[1;34m(filepath_or_buffer, sep, delimiter, header, names, index_col, usecols, squeeze, prefix, mangle_dupe_cols, dtype, engine, converters, true_values, false_values, skipinitialspace, skiprows, skipfooter, nrows, na_values, keep_default_na, na_filter, verbose, skip_blank_lines, parse_dates, infer_datetime_format, keep_date_col, date_parser, dayfirst, cache_dates, iterator, chunksize, compression, thousands, decimal, lineterminator, quotechar, quoting, doublequote, escapechar, comment, encoding, encoding_errors, dialect, error_bad_lines, warn_bad_lines, on_bad_lines, delim_whitespace, low_memory, memory_map, float_precision, storage_options)\u001b[0m\n\u001b[0;32m    935\u001b[0m kwds_defaults \u001b[39m=\u001b[39m _refine_defaults_read(\n\u001b[0;32m    936\u001b[0m     dialect,\n\u001b[0;32m    937\u001b[0m     delimiter,\n\u001b[1;32m   (...)\u001b[0m\n\u001b[0;32m    946\u001b[0m     defaults\u001b[39m=\u001b[39m{\u001b[39m\"\u001b[39m\u001b[39mdelimiter\u001b[39m\u001b[39m\"\u001b[39m: \u001b[39m\"\u001b[39m\u001b[39m,\u001b[39m\u001b[39m\"\u001b[39m},\n\u001b[0;32m    947\u001b[0m )\n\u001b[0;32m    948\u001b[0m kwds\u001b[39m.\u001b[39mupdate(kwds_defaults)\n\u001b[1;32m--> 950\u001b[0m \u001b[39mreturn\u001b[39;00m _read(filepath_or_buffer, kwds)\n",
      "File \u001b[1;32mc:\\Users\\agust\\AppData\\Local\\Programs\\Python\\Python310\\lib\\site-packages\\pandas\\io\\parsers\\readers.py:611\u001b[0m, in \u001b[0;36m_read\u001b[1;34m(filepath_or_buffer, kwds)\u001b[0m\n\u001b[0;32m    608\u001b[0m     \u001b[39mreturn\u001b[39;00m parser\n\u001b[0;32m    610\u001b[0m \u001b[39mwith\u001b[39;00m parser:\n\u001b[1;32m--> 611\u001b[0m     \u001b[39mreturn\u001b[39;00m parser\u001b[39m.\u001b[39;49mread(nrows)\n",
      "File \u001b[1;32mc:\\Users\\agust\\AppData\\Local\\Programs\\Python\\Python310\\lib\\site-packages\\pandas\\io\\parsers\\readers.py:1772\u001b[0m, in \u001b[0;36mTextFileReader.read\u001b[1;34m(self, nrows)\u001b[0m\n\u001b[0;32m   1765\u001b[0m nrows \u001b[39m=\u001b[39m validate_integer(\u001b[39m\"\u001b[39m\u001b[39mnrows\u001b[39m\u001b[39m\"\u001b[39m, nrows)\n\u001b[0;32m   1766\u001b[0m \u001b[39mtry\u001b[39;00m:\n\u001b[0;32m   1767\u001b[0m     \u001b[39m# error: \"ParserBase\" has no attribute \"read\"\u001b[39;00m\n\u001b[0;32m   1768\u001b[0m     (\n\u001b[0;32m   1769\u001b[0m         index,\n\u001b[0;32m   1770\u001b[0m         columns,\n\u001b[0;32m   1771\u001b[0m         col_dict,\n\u001b[1;32m-> 1772\u001b[0m     ) \u001b[39m=\u001b[39m \u001b[39mself\u001b[39;49m\u001b[39m.\u001b[39;49m_engine\u001b[39m.\u001b[39;49mread(  \u001b[39m# type: ignore[attr-defined]\u001b[39;49;00m\n\u001b[0;32m   1773\u001b[0m         nrows\n\u001b[0;32m   1774\u001b[0m     )\n\u001b[0;32m   1775\u001b[0m \u001b[39mexcept\u001b[39;00m \u001b[39mException\u001b[39;00m:\n\u001b[0;32m   1776\u001b[0m     \u001b[39mself\u001b[39m\u001b[39m.\u001b[39mclose()\n",
      "File \u001b[1;32mc:\\Users\\agust\\AppData\\Local\\Programs\\Python\\Python310\\lib\\site-packages\\pandas\\io\\parsers\\c_parser_wrapper.py:243\u001b[0m, in \u001b[0;36mCParserWrapper.read\u001b[1;34m(self, nrows)\u001b[0m\n\u001b[0;32m    241\u001b[0m \u001b[39mtry\u001b[39;00m:\n\u001b[0;32m    242\u001b[0m     \u001b[39mif\u001b[39;00m \u001b[39mself\u001b[39m\u001b[39m.\u001b[39mlow_memory:\n\u001b[1;32m--> 243\u001b[0m         chunks \u001b[39m=\u001b[39m \u001b[39mself\u001b[39;49m\u001b[39m.\u001b[39;49m_reader\u001b[39m.\u001b[39;49mread_low_memory(nrows)\n\u001b[0;32m    244\u001b[0m         \u001b[39m# destructive to chunks\u001b[39;00m\n\u001b[0;32m    245\u001b[0m         data \u001b[39m=\u001b[39m _concatenate_chunks(chunks)\n",
      "File \u001b[1;32mc:\\Users\\agust\\AppData\\Local\\Programs\\Python\\Python310\\lib\\site-packages\\pandas\\_libs\\parsers.pyx:808\u001b[0m, in \u001b[0;36mpandas._libs.parsers.TextReader.read_low_memory\u001b[1;34m()\u001b[0m\n",
      "File \u001b[1;32mc:\\Users\\agust\\AppData\\Local\\Programs\\Python\\Python310\\lib\\site-packages\\pandas\\_libs\\parsers.pyx:890\u001b[0m, in \u001b[0;36mpandas._libs.parsers.TextReader._read_rows\u001b[1;34m()\u001b[0m\n",
      "File \u001b[1;32mc:\\Users\\agust\\AppData\\Local\\Programs\\Python\\Python310\\lib\\site-packages\\pandas\\_libs\\parsers.pyx:1049\u001b[0m, in \u001b[0;36mpandas._libs.parsers.TextReader._convert_column_data\u001b[1;34m()\u001b[0m\n",
      "File \u001b[1;32mc:\\Users\\agust\\AppData\\Local\\Programs\\Python\\Python310\\lib\\site-packages\\pandas\\core\\dtypes\\common.py:1434\u001b[0m, in \u001b[0;36mis_extension_array_dtype\u001b[1;34m(arr_or_dtype)\u001b[0m\n\u001b[0;32m   1425\u001b[0m     \u001b[39m# Note: if other EA dtypes are ever held in HybridBlock, exclude those\u001b[39;00m\n\u001b[0;32m   1426\u001b[0m     \u001b[39m#  here too.\u001b[39;00m\n\u001b[0;32m   1427\u001b[0m     \u001b[39m# NB: need to check DatetimeTZDtype and not is_datetime64tz_dtype\u001b[39;00m\n\u001b[0;32m   1428\u001b[0m     \u001b[39m#  to exclude ArrowTimestampUSDtype\u001b[39;00m\n\u001b[0;32m   1429\u001b[0m     \u001b[39mreturn\u001b[39;00m \u001b[39misinstance\u001b[39m(dtype, ExtensionDtype) \u001b[39mand\u001b[39;00m \u001b[39mnot\u001b[39;00m \u001b[39misinstance\u001b[39m(\n\u001b[0;32m   1430\u001b[0m         dtype, (DatetimeTZDtype, PeriodDtype)\n\u001b[0;32m   1431\u001b[0m     )\n\u001b[1;32m-> 1434\u001b[0m \u001b[39mdef\u001b[39;00m \u001b[39mis_extension_array_dtype\u001b[39m(arr_or_dtype) \u001b[39m-\u001b[39m\u001b[39m>\u001b[39m \u001b[39mbool\u001b[39m:\n\u001b[0;32m   1435\u001b[0m     \u001b[39m\"\"\"\u001b[39;00m\n\u001b[0;32m   1436\u001b[0m \u001b[39m    Check if an object is a pandas extension array type.\u001b[39;00m\n\u001b[0;32m   1437\u001b[0m \n\u001b[1;32m   (...)\u001b[0m\n\u001b[0;32m   1477\u001b[0m \u001b[39m    False\u001b[39;00m\n\u001b[0;32m   1478\u001b[0m \u001b[39m    \"\"\"\u001b[39;00m\n\u001b[0;32m   1479\u001b[0m     dtype \u001b[39m=\u001b[39m \u001b[39mgetattr\u001b[39m(arr_or_dtype, \u001b[39m\"\u001b[39m\u001b[39mdtype\u001b[39m\u001b[39m\"\u001b[39m, arr_or_dtype)\n",
      "\u001b[1;31mKeyboardInterrupt\u001b[0m: "
     ]
    }
   ],
   "source": [
    "# Importo dataset total\n",
    "\n",
    "df = pd.read_csv(\"D:\\OneDrive\\Personal\\Maestria Data Mining\\economia_finanzas\\datasets\\competencia3_2022.csv.gz\")\n",
    "\n"
   ]
  },
  {
   "cell_type": "code",
   "execution_count": 31,
   "metadata": {},
   "outputs": [],
   "source": [
    "df = df.copy()"
   ]
  },
  {
   "cell_type": "code",
   "execution_count": 83,
   "metadata": {},
   "outputs": [
    {
     "name": "stdout",
     "output_type": "stream",
     "text": [
      "Index(['numero_de_cliente', 'foto_mes', 'active_quarter', 'cliente_vip',\n",
      "       'internet', 'cliente_edad', 'cliente_antiguedad', 'mrentabilidad',\n",
      "       'mrentabilidad_annual', 'mcomisiones',\n",
      "       ...\n",
      "       'Visa_fultimo_cierre', 'Visa_mpagado', 'Visa_mpagospesos',\n",
      "       'Visa_mpagosdolares', 'Visa_fechaalta', 'Visa_mconsumototal',\n",
      "       'Visa_cconsumos', 'Visa_cadelantosefectivo', 'Visa_mpagominimo',\n",
      "       'clase_ternaria'],\n",
      "      dtype='object', length=155)\n",
      "202107    164348\n",
      "202106    164114\n",
      "202105    163768\n",
      "202104    163284\n",
      "202103    162900\n",
      "202102    161919\n",
      "202101    161342\n",
      "202012    160834\n",
      "202011    160072\n",
      "202010    158941\n",
      "202009    157519\n",
      "202008    156234\n",
      "202007    154772\n",
      "202006    152712\n",
      "202005    150267\n",
      "202004    148831\n",
      "202003    148313\n",
      "202002    146184\n",
      "202001    142929\n",
      "201912    139555\n",
      "201911    137523\n",
      "201910    135633\n",
      "201909    133419\n",
      "201908    131775\n",
      "201907    129853\n",
      "201906    128370\n",
      "201905    126763\n",
      "201904    126116\n",
      "201903    125622\n",
      "201902    125020\n",
      "201901    123916\n",
      "Name: foto_mes, dtype: int64\n"
     ]
    }
   ],
   "source": [
    "def print_full(x):\n",
    "    pd.set_option('display.max_rows', len(x))\n",
    "    print(x)\n",
    "    pd.reset_option('display.max_rows')\n",
    "\n",
    "\n",
    "#Imprimo columnas\n",
    "print(df.columns)\n",
    "\n",
    "#Veo cuantos meses hay\n",
    "print_full(value_counts(df['foto_mes']))\n",
    "\n",
    "df_bajas = df.groupby(['foto_mes','clase_ternaria'])['clase_ternaria'].count()\n",
    "\n"
   ]
  },
  {
   "cell_type": "code",
   "execution_count": 84,
   "metadata": {},
   "outputs": [],
   "source": [
    "df_bajas = df_bajas.unstack()\n",
    "\n",
    "#Dropeo hasta el mes de análisis \n",
    "df_bajas.drop([202102,202103,202104,202105,202106],axis=0,inplace=True)"
   ]
  },
  {
   "cell_type": "code",
   "execution_count": 85,
   "metadata": {},
   "outputs": [
    {
     "data": {
      "text/html": [
       "<div>\n",
       "<style scoped>\n",
       "    .dataframe tbody tr th:only-of-type {\n",
       "        vertical-align: middle;\n",
       "    }\n",
       "\n",
       "    .dataframe tbody tr th {\n",
       "        vertical-align: top;\n",
       "    }\n",
       "\n",
       "    .dataframe thead th {\n",
       "        text-align: right;\n",
       "    }\n",
       "</style>\n",
       "<table border=\"1\" class=\"dataframe\">\n",
       "  <thead>\n",
       "    <tr style=\"text-align: right;\">\n",
       "      <th>clase_ternaria</th>\n",
       "      <th>BAJA+1</th>\n",
       "      <th>BAJA+2</th>\n",
       "      <th>CONTINUA</th>\n",
       "    </tr>\n",
       "    <tr>\n",
       "      <th>foto_mes</th>\n",
       "      <th></th>\n",
       "      <th></th>\n",
       "      <th></th>\n",
       "    </tr>\n",
       "  </thead>\n",
       "  <tbody>\n",
       "    <tr>\n",
       "      <th>201901</th>\n",
       "      <td>647.0</td>\n",
       "      <td>697.0</td>\n",
       "      <td>122572.0</td>\n",
       "    </tr>\n",
       "    <tr>\n",
       "      <th>201902</th>\n",
       "      <td>700.0</td>\n",
       "      <td>696.0</td>\n",
       "      <td>123624.0</td>\n",
       "    </tr>\n",
       "    <tr>\n",
       "      <th>201903</th>\n",
       "      <td>700.0</td>\n",
       "      <td>774.0</td>\n",
       "      <td>124148.0</td>\n",
       "    </tr>\n",
       "    <tr>\n",
       "      <th>201904</th>\n",
       "      <td>776.0</td>\n",
       "      <td>575.0</td>\n",
       "      <td>124765.0</td>\n",
       "    </tr>\n",
       "    <tr>\n",
       "      <th>201905</th>\n",
       "      <td>576.0</td>\n",
       "      <td>658.0</td>\n",
       "      <td>125529.0</td>\n",
       "    </tr>\n",
       "    <tr>\n",
       "      <th>201906</th>\n",
       "      <td>665.0</td>\n",
       "      <td>589.0</td>\n",
       "      <td>127116.0</td>\n",
       "    </tr>\n",
       "    <tr>\n",
       "      <th>201907</th>\n",
       "      <td>595.0</td>\n",
       "      <td>656.0</td>\n",
       "      <td>128602.0</td>\n",
       "    </tr>\n",
       "    <tr>\n",
       "      <th>201908</th>\n",
       "      <td>659.0</td>\n",
       "      <td>543.0</td>\n",
       "      <td>130573.0</td>\n",
       "    </tr>\n",
       "    <tr>\n",
       "      <th>201909</th>\n",
       "      <td>548.0</td>\n",
       "      <td>615.0</td>\n",
       "      <td>132256.0</td>\n",
       "    </tr>\n",
       "    <tr>\n",
       "      <th>201910</th>\n",
       "      <td>621.0</td>\n",
       "      <td>632.0</td>\n",
       "      <td>134380.0</td>\n",
       "    </tr>\n",
       "    <tr>\n",
       "      <th>201911</th>\n",
       "      <td>634.0</td>\n",
       "      <td>791.0</td>\n",
       "      <td>136098.0</td>\n",
       "    </tr>\n",
       "    <tr>\n",
       "      <th>201912</th>\n",
       "      <td>798.0</td>\n",
       "      <td>601.0</td>\n",
       "      <td>138156.0</td>\n",
       "    </tr>\n",
       "    <tr>\n",
       "      <th>202001</th>\n",
       "      <td>608.0</td>\n",
       "      <td>521.0</td>\n",
       "      <td>141800.0</td>\n",
       "    </tr>\n",
       "    <tr>\n",
       "      <th>202002</th>\n",
       "      <td>524.0</td>\n",
       "      <td>213.0</td>\n",
       "      <td>145447.0</td>\n",
       "    </tr>\n",
       "    <tr>\n",
       "      <th>202003</th>\n",
       "      <td>213.0</td>\n",
       "      <td>398.0</td>\n",
       "      <td>147702.0</td>\n",
       "    </tr>\n",
       "    <tr>\n",
       "      <th>202004</th>\n",
       "      <td>399.0</td>\n",
       "      <td>524.0</td>\n",
       "      <td>147908.0</td>\n",
       "    </tr>\n",
       "    <tr>\n",
       "      <th>202005</th>\n",
       "      <td>527.0</td>\n",
       "      <td>566.0</td>\n",
       "      <td>149174.0</td>\n",
       "    </tr>\n",
       "    <tr>\n",
       "      <th>202006</th>\n",
       "      <td>584.0</td>\n",
       "      <td>610.0</td>\n",
       "      <td>151518.0</td>\n",
       "    </tr>\n",
       "    <tr>\n",
       "      <th>202007</th>\n",
       "      <td>615.0</td>\n",
       "      <td>541.0</td>\n",
       "      <td>153616.0</td>\n",
       "    </tr>\n",
       "    <tr>\n",
       "      <th>202008</th>\n",
       "      <td>546.0</td>\n",
       "      <td>434.0</td>\n",
       "      <td>155254.0</td>\n",
       "    </tr>\n",
       "    <tr>\n",
       "      <th>202009</th>\n",
       "      <td>435.0</td>\n",
       "      <td>531.0</td>\n",
       "      <td>156553.0</td>\n",
       "    </tr>\n",
       "    <tr>\n",
       "      <th>202010</th>\n",
       "      <td>532.0</td>\n",
       "      <td>519.0</td>\n",
       "      <td>157890.0</td>\n",
       "    </tr>\n",
       "    <tr>\n",
       "      <th>202011</th>\n",
       "      <td>521.0</td>\n",
       "      <td>675.0</td>\n",
       "      <td>158876.0</td>\n",
       "    </tr>\n",
       "    <tr>\n",
       "      <th>202012</th>\n",
       "      <td>680.0</td>\n",
       "      <td>661.0</td>\n",
       "      <td>159493.0</td>\n",
       "    </tr>\n",
       "    <tr>\n",
       "      <th>202101</th>\n",
       "      <td>664.0</td>\n",
       "      <td>850.0</td>\n",
       "      <td>159828.0</td>\n",
       "    </tr>\n",
       "  </tbody>\n",
       "</table>\n",
       "</div>"
      ],
      "text/plain": [
       "clase_ternaria  BAJA+1  BAJA+2  CONTINUA\n",
       "foto_mes                                \n",
       "201901           647.0   697.0  122572.0\n",
       "201902           700.0   696.0  123624.0\n",
       "201903           700.0   774.0  124148.0\n",
       "201904           776.0   575.0  124765.0\n",
       "201905           576.0   658.0  125529.0\n",
       "201906           665.0   589.0  127116.0\n",
       "201907           595.0   656.0  128602.0\n",
       "201908           659.0   543.0  130573.0\n",
       "201909           548.0   615.0  132256.0\n",
       "201910           621.0   632.0  134380.0\n",
       "201911           634.0   791.0  136098.0\n",
       "201912           798.0   601.0  138156.0\n",
       "202001           608.0   521.0  141800.0\n",
       "202002           524.0   213.0  145447.0\n",
       "202003           213.0   398.0  147702.0\n",
       "202004           399.0   524.0  147908.0\n",
       "202005           527.0   566.0  149174.0\n",
       "202006           584.0   610.0  151518.0\n",
       "202007           615.0   541.0  153616.0\n",
       "202008           546.0   434.0  155254.0\n",
       "202009           435.0   531.0  156553.0\n",
       "202010           532.0   519.0  157890.0\n",
       "202011           521.0   675.0  158876.0\n",
       "202012           680.0   661.0  159493.0\n",
       "202101           664.0   850.0  159828.0"
      ]
     },
     "execution_count": 85,
     "metadata": {},
     "output_type": "execute_result"
    }
   ],
   "source": [
    "df_bajas"
   ]
  },
  {
   "cell_type": "code",
   "execution_count": 88,
   "metadata": {},
   "outputs": [],
   "source": [
    "df_bajas['porcentaje_bajas'] = round(df_bajas['BAJA+2']/(df_bajas['BAJA+2']+df_bajas['BAJA+1']+df_bajas['CONTINUA'])*100,2)\n",
    "df_bajas.index = pd.to_datetime(df_bajas.index,format='%Y%m')"
   ]
  },
  {
   "cell_type": "code",
   "execution_count": 131,
   "metadata": {},
   "outputs": [],
   "source": [
    "\n",
    "import plotly.express as px\n",
    "#Graficos de interes\n",
    "\n",
    "fig = px.line(df_bajas,y=\"porcentaje_bajas\",text =\"porcentaje_bajas\")\n",
    "fig.update_traces(textposition=\"bottom right\")\n",
    "fig.update_layout(yaxis_range=[0,1])\n",
    "fig.update_layout(title= ' Porcentaje de bajas a lo largo de 2019 y 2020')\n",
    "\n",
    "fig.write_html(r'D:\\OneDrive\\Personal\\Maestria Data Mining\\economia_finanzas\\labo\\src\\clustering\\Evolución de clientes que abandonan.html')\n",
    "\n",
    "\n",
    "#df_bajas['porcentaje_bajas'].plot()"
   ]
  },
  {
   "cell_type": "markdown",
   "metadata": {},
   "source": [
    "Cargamos con **pandas** lentamente el dataset. Sólo vamos a trabajar con el primer conjunto de datos que es el más pequeño. Con un poco más de paciencia podrá usar los conjuntos más pesados. "
   ]
  },
  {
   "cell_type": "code",
   "execution_count": 92,
   "metadata": {},
   "outputs": [
    {
     "name": "stderr",
     "output_type": "stream",
     "text": [
      "C:\\Users\\agust\\AppData\\Local\\Temp\\ipykernel_27996\\937506877.py:1: DtypeWarning:\n",
      "\n",
      "Columns (154) have mixed types. Specify dtype option on import or set low_memory=False.\n",
      "\n"
     ]
    }
   ],
   "source": [
    "df_train = pd.read_csv(\"D:\\OneDrive\\Personal\\Maestria Data Mining\\economia_finanzas\\datasets\\competencia1_2022.csv\")\n",
    "\n",
    "Xtrain = df_train[df_train[\"foto_mes\"] == 202101]\n",
    "ytrain = Xtrain[\"clase_ternaria\"].map(lambda x: 0 if x == \"CONTINUA\" else 1)"
   ]
  },
  {
   "cell_type": "code",
   "execution_count": 93,
   "metadata": {},
   "outputs": [
    {
     "name": "stdout",
     "output_type": "stream",
     "text": [
      "202103    162900\n",
      "202101    161342\n",
      "Name: foto_mes, dtype: int64\n"
     ]
    }
   ],
   "source": [
    "#Exploración de meses disponibles\n",
    "\n",
    "from pandas import value_counts\n",
    "\n",
    "\n",
    "print(value_counts(df_train['foto_mes']))"
   ]
  },
  {
   "cell_type": "code",
   "execution_count": 94,
   "metadata": {},
   "outputs": [
    {
     "data": {
      "text/html": [
       "<div>\n",
       "<style scoped>\n",
       "    .dataframe tbody tr th:only-of-type {\n",
       "        vertical-align: middle;\n",
       "    }\n",
       "\n",
       "    .dataframe tbody tr th {\n",
       "        vertical-align: top;\n",
       "    }\n",
       "\n",
       "    .dataframe thead th {\n",
       "        text-align: right;\n",
       "    }\n",
       "</style>\n",
       "<table border=\"1\" class=\"dataframe\">\n",
       "  <thead>\n",
       "    <tr style=\"text-align: right;\">\n",
       "      <th></th>\n",
       "      <th>numero_de_cliente</th>\n",
       "      <th>foto_mes</th>\n",
       "      <th>active_quarter</th>\n",
       "      <th>cliente_vip</th>\n",
       "      <th>internet</th>\n",
       "      <th>cliente_edad</th>\n",
       "      <th>cliente_antiguedad</th>\n",
       "      <th>mrentabilidad</th>\n",
       "      <th>mrentabilidad_annual</th>\n",
       "      <th>mcomisiones</th>\n",
       "      <th>...</th>\n",
       "      <th>Visa_fultimo_cierre</th>\n",
       "      <th>Visa_mpagado</th>\n",
       "      <th>Visa_mpagospesos</th>\n",
       "      <th>Visa_mpagosdolares</th>\n",
       "      <th>Visa_fechaalta</th>\n",
       "      <th>Visa_mconsumototal</th>\n",
       "      <th>Visa_cconsumos</th>\n",
       "      <th>Visa_cadelantosefectivo</th>\n",
       "      <th>Visa_mpagominimo</th>\n",
       "      <th>clase_ternaria</th>\n",
       "    </tr>\n",
       "  </thead>\n",
       "  <tbody>\n",
       "    <tr>\n",
       "      <th>0</th>\n",
       "      <td>31115668</td>\n",
       "      <td>202101</td>\n",
       "      <td>1</td>\n",
       "      <td>0</td>\n",
       "      <td>0</td>\n",
       "      <td>56</td>\n",
       "      <td>132</td>\n",
       "      <td>1897.12</td>\n",
       "      <td>24324.75</td>\n",
       "      <td>940.32</td>\n",
       "      <td>...</td>\n",
       "      <td>4.0</td>\n",
       "      <td>0.0</td>\n",
       "      <td>-16247.77</td>\n",
       "      <td>0.00</td>\n",
       "      <td>3997.0</td>\n",
       "      <td>18435.59</td>\n",
       "      <td>1.0</td>\n",
       "      <td>0.0</td>\n",
       "      <td>1337.22</td>\n",
       "      <td>CONTINUA</td>\n",
       "    </tr>\n",
       "    <tr>\n",
       "      <th>1</th>\n",
       "      <td>31115678</td>\n",
       "      <td>202101</td>\n",
       "      <td>1</td>\n",
       "      <td>0</td>\n",
       "      <td>0</td>\n",
       "      <td>48</td>\n",
       "      <td>100</td>\n",
       "      <td>-384.72</td>\n",
       "      <td>33860.45</td>\n",
       "      <td>-515.53</td>\n",
       "      <td>...</td>\n",
       "      <td>NaN</td>\n",
       "      <td>NaN</td>\n",
       "      <td>NaN</td>\n",
       "      <td>NaN</td>\n",
       "      <td>NaN</td>\n",
       "      <td>NaN</td>\n",
       "      <td>NaN</td>\n",
       "      <td>NaN</td>\n",
       "      <td>NaN</td>\n",
       "      <td>CONTINUA</td>\n",
       "    </tr>\n",
       "    <tr>\n",
       "      <th>2</th>\n",
       "      <td>31117415</td>\n",
       "      <td>202101</td>\n",
       "      <td>1</td>\n",
       "      <td>0</td>\n",
       "      <td>0</td>\n",
       "      <td>60</td>\n",
       "      <td>53</td>\n",
       "      <td>-3622.66</td>\n",
       "      <td>-21310.32</td>\n",
       "      <td>2442.04</td>\n",
       "      <td>...</td>\n",
       "      <td>4.0</td>\n",
       "      <td>0.0</td>\n",
       "      <td>-33430.50</td>\n",
       "      <td>0.00</td>\n",
       "      <td>1573.0</td>\n",
       "      <td>12033.40</td>\n",
       "      <td>4.0</td>\n",
       "      <td>0.0</td>\n",
       "      <td>20011.38</td>\n",
       "      <td>CONTINUA</td>\n",
       "    </tr>\n",
       "    <tr>\n",
       "      <th>3</th>\n",
       "      <td>31117711</td>\n",
       "      <td>202101</td>\n",
       "      <td>1</td>\n",
       "      <td>0</td>\n",
       "      <td>0</td>\n",
       "      <td>46</td>\n",
       "      <td>273</td>\n",
       "      <td>14542.05</td>\n",
       "      <td>125727.99</td>\n",
       "      <td>1037.77</td>\n",
       "      <td>...</td>\n",
       "      <td>4.0</td>\n",
       "      <td>0.0</td>\n",
       "      <td>-9832.94</td>\n",
       "      <td>14.27</td>\n",
       "      <td>2063.0</td>\n",
       "      <td>758.21</td>\n",
       "      <td>3.0</td>\n",
       "      <td>0.0</td>\n",
       "      <td>1302.03</td>\n",
       "      <td>CONTINUA</td>\n",
       "    </tr>\n",
       "    <tr>\n",
       "      <th>4</th>\n",
       "      <td>31118145</td>\n",
       "      <td>202101</td>\n",
       "      <td>1</td>\n",
       "      <td>0</td>\n",
       "      <td>0</td>\n",
       "      <td>47</td>\n",
       "      <td>192</td>\n",
       "      <td>1868.27</td>\n",
       "      <td>37305.29</td>\n",
       "      <td>1496.68</td>\n",
       "      <td>...</td>\n",
       "      <td>4.0</td>\n",
       "      <td>0.0</td>\n",
       "      <td>0.00</td>\n",
       "      <td>0.00</td>\n",
       "      <td>5842.0</td>\n",
       "      <td>6316.13</td>\n",
       "      <td>1.0</td>\n",
       "      <td>0.0</td>\n",
       "      <td>4680.27</td>\n",
       "      <td>CONTINUA</td>\n",
       "    </tr>\n",
       "    <tr>\n",
       "      <th>...</th>\n",
       "      <td>...</td>\n",
       "      <td>...</td>\n",
       "      <td>...</td>\n",
       "      <td>...</td>\n",
       "      <td>...</td>\n",
       "      <td>...</td>\n",
       "      <td>...</td>\n",
       "      <td>...</td>\n",
       "      <td>...</td>\n",
       "      <td>...</td>\n",
       "      <td>...</td>\n",
       "      <td>...</td>\n",
       "      <td>...</td>\n",
       "      <td>...</td>\n",
       "      <td>...</td>\n",
       "      <td>...</td>\n",
       "      <td>...</td>\n",
       "      <td>...</td>\n",
       "      <td>...</td>\n",
       "      <td>...</td>\n",
       "      <td>...</td>\n",
       "    </tr>\n",
       "    <tr>\n",
       "      <th>161337</th>\n",
       "      <td>211517374</td>\n",
       "      <td>202101</td>\n",
       "      <td>0</td>\n",
       "      <td>0</td>\n",
       "      <td>0</td>\n",
       "      <td>40</td>\n",
       "      <td>1</td>\n",
       "      <td>0.00</td>\n",
       "      <td>0.00</td>\n",
       "      <td>0.00</td>\n",
       "      <td>...</td>\n",
       "      <td>4.0</td>\n",
       "      <td>0.0</td>\n",
       "      <td>NaN</td>\n",
       "      <td>NaN</td>\n",
       "      <td>17.0</td>\n",
       "      <td>NaN</td>\n",
       "      <td>NaN</td>\n",
       "      <td>NaN</td>\n",
       "      <td>0.00</td>\n",
       "      <td>CONTINUA</td>\n",
       "    </tr>\n",
       "    <tr>\n",
       "      <th>161338</th>\n",
       "      <td>211519298</td>\n",
       "      <td>202101</td>\n",
       "      <td>0</td>\n",
       "      <td>0</td>\n",
       "      <td>0</td>\n",
       "      <td>22</td>\n",
       "      <td>1</td>\n",
       "      <td>0.00</td>\n",
       "      <td>0.00</td>\n",
       "      <td>0.00</td>\n",
       "      <td>...</td>\n",
       "      <td>4.0</td>\n",
       "      <td>0.0</td>\n",
       "      <td>NaN</td>\n",
       "      <td>NaN</td>\n",
       "      <td>6.0</td>\n",
       "      <td>NaN</td>\n",
       "      <td>NaN</td>\n",
       "      <td>NaN</td>\n",
       "      <td>0.00</td>\n",
       "      <td>CONTINUA</td>\n",
       "    </tr>\n",
       "    <tr>\n",
       "      <th>161339</th>\n",
       "      <td>211523404</td>\n",
       "      <td>202101</td>\n",
       "      <td>1</td>\n",
       "      <td>0</td>\n",
       "      <td>0</td>\n",
       "      <td>31</td>\n",
       "      <td>1</td>\n",
       "      <td>1.41</td>\n",
       "      <td>1.41</td>\n",
       "      <td>0.00</td>\n",
       "      <td>...</td>\n",
       "      <td>4.0</td>\n",
       "      <td>0.0</td>\n",
       "      <td>NaN</td>\n",
       "      <td>NaN</td>\n",
       "      <td>12.0</td>\n",
       "      <td>NaN</td>\n",
       "      <td>NaN</td>\n",
       "      <td>NaN</td>\n",
       "      <td>0.00</td>\n",
       "      <td>CONTINUA</td>\n",
       "    </tr>\n",
       "    <tr>\n",
       "      <th>161340</th>\n",
       "      <td>211528437</td>\n",
       "      <td>202101</td>\n",
       "      <td>0</td>\n",
       "      <td>0</td>\n",
       "      <td>0</td>\n",
       "      <td>22</td>\n",
       "      <td>1</td>\n",
       "      <td>0.00</td>\n",
       "      <td>0.00</td>\n",
       "      <td>0.00</td>\n",
       "      <td>...</td>\n",
       "      <td>NaN</td>\n",
       "      <td>0.0</td>\n",
       "      <td>NaN</td>\n",
       "      <td>NaN</td>\n",
       "      <td>3.0</td>\n",
       "      <td>NaN</td>\n",
       "      <td>NaN</td>\n",
       "      <td>NaN</td>\n",
       "      <td>0.00</td>\n",
       "      <td>CONTINUA</td>\n",
       "    </tr>\n",
       "    <tr>\n",
       "      <th>161341</th>\n",
       "      <td>211528586</td>\n",
       "      <td>202101</td>\n",
       "      <td>1</td>\n",
       "      <td>0</td>\n",
       "      <td>0</td>\n",
       "      <td>57</td>\n",
       "      <td>1</td>\n",
       "      <td>84.45</td>\n",
       "      <td>84.45</td>\n",
       "      <td>0.00</td>\n",
       "      <td>...</td>\n",
       "      <td>4.0</td>\n",
       "      <td>0.0</td>\n",
       "      <td>NaN</td>\n",
       "      <td>NaN</td>\n",
       "      <td>10.0</td>\n",
       "      <td>NaN</td>\n",
       "      <td>NaN</td>\n",
       "      <td>NaN</td>\n",
       "      <td>0.00</td>\n",
       "      <td>CONTINUA</td>\n",
       "    </tr>\n",
       "  </tbody>\n",
       "</table>\n",
       "<p>161342 rows × 155 columns</p>\n",
       "</div>"
      ],
      "text/plain": [
       "        numero_de_cliente  foto_mes  active_quarter  cliente_vip  internet  \\\n",
       "0                31115668    202101               1            0         0   \n",
       "1                31115678    202101               1            0         0   \n",
       "2                31117415    202101               1            0         0   \n",
       "3                31117711    202101               1            0         0   \n",
       "4                31118145    202101               1            0         0   \n",
       "...                   ...       ...             ...          ...       ...   \n",
       "161337          211517374    202101               0            0         0   \n",
       "161338          211519298    202101               0            0         0   \n",
       "161339          211523404    202101               1            0         0   \n",
       "161340          211528437    202101               0            0         0   \n",
       "161341          211528586    202101               1            0         0   \n",
       "\n",
       "        cliente_edad  cliente_antiguedad  mrentabilidad  mrentabilidad_annual  \\\n",
       "0                 56                 132        1897.12              24324.75   \n",
       "1                 48                 100        -384.72              33860.45   \n",
       "2                 60                  53       -3622.66             -21310.32   \n",
       "3                 46                 273       14542.05             125727.99   \n",
       "4                 47                 192        1868.27              37305.29   \n",
       "...              ...                 ...            ...                   ...   \n",
       "161337            40                   1           0.00                  0.00   \n",
       "161338            22                   1           0.00                  0.00   \n",
       "161339            31                   1           1.41                  1.41   \n",
       "161340            22                   1           0.00                  0.00   \n",
       "161341            57                   1          84.45                 84.45   \n",
       "\n",
       "        mcomisiones  ...  Visa_fultimo_cierre  Visa_mpagado  Visa_mpagospesos  \\\n",
       "0            940.32  ...                  4.0           0.0         -16247.77   \n",
       "1           -515.53  ...                  NaN           NaN               NaN   \n",
       "2           2442.04  ...                  4.0           0.0         -33430.50   \n",
       "3           1037.77  ...                  4.0           0.0          -9832.94   \n",
       "4           1496.68  ...                  4.0           0.0              0.00   \n",
       "...             ...  ...                  ...           ...               ...   \n",
       "161337         0.00  ...                  4.0           0.0               NaN   \n",
       "161338         0.00  ...                  4.0           0.0               NaN   \n",
       "161339         0.00  ...                  4.0           0.0               NaN   \n",
       "161340         0.00  ...                  NaN           0.0               NaN   \n",
       "161341         0.00  ...                  4.0           0.0               NaN   \n",
       "\n",
       "        Visa_mpagosdolares  Visa_fechaalta  Visa_mconsumototal  \\\n",
       "0                     0.00          3997.0            18435.59   \n",
       "1                      NaN             NaN                 NaN   \n",
       "2                     0.00          1573.0            12033.40   \n",
       "3                    14.27          2063.0              758.21   \n",
       "4                     0.00          5842.0             6316.13   \n",
       "...                    ...             ...                 ...   \n",
       "161337                 NaN            17.0                 NaN   \n",
       "161338                 NaN             6.0                 NaN   \n",
       "161339                 NaN            12.0                 NaN   \n",
       "161340                 NaN             3.0                 NaN   \n",
       "161341                 NaN            10.0                 NaN   \n",
       "\n",
       "        Visa_cconsumos  Visa_cadelantosefectivo  Visa_mpagominimo  \\\n",
       "0                  1.0                      0.0           1337.22   \n",
       "1                  NaN                      NaN               NaN   \n",
       "2                  4.0                      0.0          20011.38   \n",
       "3                  3.0                      0.0           1302.03   \n",
       "4                  1.0                      0.0           4680.27   \n",
       "...                ...                      ...               ...   \n",
       "161337             NaN                      NaN              0.00   \n",
       "161338             NaN                      NaN              0.00   \n",
       "161339             NaN                      NaN              0.00   \n",
       "161340             NaN                      NaN              0.00   \n",
       "161341             NaN                      NaN              0.00   \n",
       "\n",
       "        clase_ternaria  \n",
       "0             CONTINUA  \n",
       "1             CONTINUA  \n",
       "2             CONTINUA  \n",
       "3             CONTINUA  \n",
       "4             CONTINUA  \n",
       "...                ...  \n",
       "161337        CONTINUA  \n",
       "161338        CONTINUA  \n",
       "161339        CONTINUA  \n",
       "161340        CONTINUA  \n",
       "161341        CONTINUA  \n",
       "\n",
       "[161342 rows x 155 columns]"
      ]
     },
     "execution_count": 94,
     "metadata": {},
     "output_type": "execute_result"
    }
   ],
   "source": [
    "Xtrain"
   ]
  },
  {
   "cell_type": "markdown",
   "metadata": {},
   "source": [
    "Separamos también todos los casos de **BAJAS+1** y **BAJAS+2**"
   ]
  },
  {
   "cell_type": "code",
   "execution_count": 95,
   "metadata": {},
   "outputs": [],
   "source": [
    "Xbajas = df_train.query(\"foto_mes == 202101 and clase_ternaria != 'CONTINUA'\")"
   ]
  },
  {
   "cell_type": "code",
   "execution_count": 96,
   "metadata": {},
   "outputs": [
    {
     "data": {
      "text/plain": [
       "(1514, 155)"
      ]
     },
     "execution_count": 96,
     "metadata": {},
     "output_type": "execute_result"
    }
   ],
   "source": [
    "Xbajas.shape"
   ]
  },
  {
   "cell_type": "markdown",
   "metadata": {},
   "source": [
    "Y nos deshacemos del target y limpiamos un poco la memoria."
   ]
  },
  {
   "cell_type": "code",
   "execution_count": 97,
   "metadata": {},
   "outputs": [],
   "source": [
    "Xtrain = Xtrain.drop(\"clase_ternaria\", axis=1)\n",
    "Xbajas = Xbajas.drop(\"clase_ternaria\", axis=1)\n",
    "\n",
    "del(df_train)"
   ]
  },
  {
   "cell_type": "markdown",
   "metadata": {},
   "source": [
    "Hacemos un modelo **LGBM**"
   ]
  },
  {
   "cell_type": "code",
   "execution_count": 98,
   "metadata": {},
   "outputs": [
    {
     "name": "stdout",
     "output_type": "stream",
     "text": [
      "[LightGBM] [Warning] Auto-choosing row-wise multi-threading, the overhead of testing was 0.028800 seconds.\n",
      "You can set `force_row_wise=true` to remove the overhead.\n",
      "And if memory is not enough, you can set `force_col_wise=true`.\n",
      "[LightGBM] [Warning] No further splits with positive gain, best gain: -inf\n",
      "[LightGBM] [Warning] No further splits with positive gain, best gain: -inf\n",
      "[LightGBM] [Warning] No further splits with positive gain, best gain: -inf\n",
      "[LightGBM] [Warning] No further splits with positive gain, best gain: -inf\n",
      "[LightGBM] [Warning] No further splits with positive gain, best gain: -inf\n",
      "[LightGBM] [Warning] No further splits with positive gain, best gain: -inf\n",
      "[LightGBM] [Warning] No further splits with positive gain, best gain: -inf\n"
     ]
    }
   ],
   "source": [
    "# create dataset for lightgbm\n",
    "lgb_train = lgb.Dataset(Xtrain, ytrain)\n",
    "\n",
    "# specify your configurations as a dict\n",
    "params = {\n",
    "    'objective': 'binary',\n",
    "    'learning_rate': 0.05,\n",
    "    'verbose': 2,\n",
    "    'max_bin': 15,\n",
    "    'min_data_in_leaf': 4000,\n",
    "    'verbose': 0,\n",
    "}\n",
    "\n",
    "gbm = lgb.train(params,\n",
    "                lgb_train,\n",
    "                num_boost_round=100)\n"
   ]
  },
  {
   "cell_type": "markdown",
   "metadata": {},
   "source": [
    "Y miramos su importancia de variables"
   ]
  },
  {
   "cell_type": "code",
   "execution_count": 99,
   "metadata": {},
   "outputs": [
    {
     "data": {
      "text/html": [
       "<div>\n",
       "<style scoped>\n",
       "    .dataframe tbody tr th:only-of-type {\n",
       "        vertical-align: middle;\n",
       "    }\n",
       "\n",
       "    .dataframe tbody tr th {\n",
       "        vertical-align: top;\n",
       "    }\n",
       "\n",
       "    .dataframe thead th {\n",
       "        text-align: right;\n",
       "    }\n",
       "</style>\n",
       "<table border=\"1\" class=\"dataframe\">\n",
       "  <thead>\n",
       "    <tr style=\"text-align: right;\">\n",
       "      <th></th>\n",
       "      <th>Features</th>\n",
       "      <th>Importances</th>\n",
       "    </tr>\n",
       "  </thead>\n",
       "  <tbody>\n",
       "    <tr>\n",
       "      <th>5</th>\n",
       "      <td>cliente_edad</td>\n",
       "      <td>141</td>\n",
       "    </tr>\n",
       "    <tr>\n",
       "      <th>107</th>\n",
       "      <td>ctrx_quarter</td>\n",
       "      <td>126</td>\n",
       "    </tr>\n",
       "    <tr>\n",
       "      <th>8</th>\n",
       "      <td>mrentabilidad_annual</td>\n",
       "      <td>119</td>\n",
       "    </tr>\n",
       "    <tr>\n",
       "      <th>10</th>\n",
       "      <td>mactivos_margen</td>\n",
       "      <td>103</td>\n",
       "    </tr>\n",
       "    <tr>\n",
       "      <th>22</th>\n",
       "      <td>mcuentas_saldo</td>\n",
       "      <td>91</td>\n",
       "    </tr>\n",
       "    <tr>\n",
       "      <th>...</th>\n",
       "      <td>...</td>\n",
       "      <td>...</td>\n",
       "    </tr>\n",
       "    <tr>\n",
       "      <th>76</th>\n",
       "      <td>cforex_buy</td>\n",
       "      <td>0</td>\n",
       "    </tr>\n",
       "    <tr>\n",
       "      <th>75</th>\n",
       "      <td>cforex</td>\n",
       "      <td>0</td>\n",
       "    </tr>\n",
       "    <tr>\n",
       "      <th>70</th>\n",
       "      <td>mtarjeta_master_descuentos</td>\n",
       "      <td>0</td>\n",
       "    </tr>\n",
       "    <tr>\n",
       "      <th>69</th>\n",
       "      <td>ctarjeta_master_descuentos</td>\n",
       "      <td>0</td>\n",
       "    </tr>\n",
       "    <tr>\n",
       "      <th>77</th>\n",
       "      <td>mforex_buy</td>\n",
       "      <td>0</td>\n",
       "    </tr>\n",
       "  </tbody>\n",
       "</table>\n",
       "<p>154 rows × 2 columns</p>\n",
       "</div>"
      ],
      "text/plain": [
       "                       Features  Importances\n",
       "5                  cliente_edad          141\n",
       "107                ctrx_quarter          126\n",
       "8          mrentabilidad_annual          119\n",
       "10              mactivos_margen          103\n",
       "22               mcuentas_saldo           91\n",
       "..                          ...          ...\n",
       "76                   cforex_buy            0\n",
       "75                       cforex            0\n",
       "70   mtarjeta_master_descuentos            0\n",
       "69   ctarjeta_master_descuentos            0\n",
       "77                   mforex_buy            0\n",
       "\n",
       "[154 rows x 2 columns]"
      ]
     },
     "execution_count": 99,
     "metadata": {},
     "output_type": "execute_result"
    }
   ],
   "source": [
    "lgbm_importancia = pd.DataFrame({'Features': gbm.feature_name(),\n",
    "                        'Importances': gbm.feature_importance()})\n",
    "lgbm_importancia.sort_values(by='Importances', inplace=True, ascending=False)\n",
    "lgbm_importancia\n"
   ]
  },
  {
   "cell_type": "markdown",
   "metadata": {},
   "source": [
    "Ahora avanzamos aplicando un modelo de interpretabilidad sobre el modelo anterior."
   ]
  },
  {
   "cell_type": "code",
   "execution_count": 100,
   "metadata": {},
   "outputs": [],
   "source": [
    "import shap"
   ]
  },
  {
   "cell_type": "code",
   "execution_count": 101,
   "metadata": {},
   "outputs": [
    {
     "name": "stderr",
     "output_type": "stream",
     "text": [
      "c:\\Users\\agust\\AppData\\Local\\Programs\\Python\\Python310\\lib\\site-packages\\shap\\explainers\\_tree.py:353: UserWarning:\n",
      "\n",
      "LightGBM binary classifier with TreeExplainer shap values output has changed to a list of ndarray\n",
      "\n"
     ]
    }
   ],
   "source": [
    "explainer = shap.TreeExplainer(gbm)\n",
    "shap_values = explainer.shap_values(Xbajas)"
   ]
  },
  {
   "cell_type": "code",
   "execution_count": 102,
   "metadata": {},
   "outputs": [
    {
     "data": {
      "text/plain": [
       "2"
      ]
     },
     "execution_count": 102,
     "metadata": {},
     "output_type": "execute_result"
    }
   ],
   "source": [
    "# Veo que son los objetos\n",
    "len(shap_values)"
   ]
  },
  {
   "cell_type": "markdown",
   "metadata": {},
   "source": [
    "Consolidamos los valores de **SHAP** para cada variable y para cada **BAJA+\\***"
   ]
  },
  {
   "cell_type": "code",
   "execution_count": 103,
   "metadata": {},
   "outputs": [
    {
     "data": {
      "text/html": [
       "<div>\n",
       "<style scoped>\n",
       "    .dataframe tbody tr th:only-of-type {\n",
       "        vertical-align: middle;\n",
       "    }\n",
       "\n",
       "    .dataframe tbody tr th {\n",
       "        vertical-align: top;\n",
       "    }\n",
       "\n",
       "    .dataframe thead th {\n",
       "        text-align: right;\n",
       "    }\n",
       "</style>\n",
       "<table border=\"1\" class=\"dataframe\">\n",
       "  <thead>\n",
       "    <tr style=\"text-align: right;\">\n",
       "      <th></th>\n",
       "      <th>numero_de_cliente</th>\n",
       "      <th>foto_mes</th>\n",
       "      <th>active_quarter</th>\n",
       "      <th>cliente_vip</th>\n",
       "      <th>internet</th>\n",
       "      <th>cliente_edad</th>\n",
       "      <th>cliente_antiguedad</th>\n",
       "      <th>mrentabilidad</th>\n",
       "      <th>mrentabilidad_annual</th>\n",
       "      <th>mcomisiones</th>\n",
       "      <th>...</th>\n",
       "      <th>Visa_madelantodolares</th>\n",
       "      <th>Visa_fultimo_cierre</th>\n",
       "      <th>Visa_mpagado</th>\n",
       "      <th>Visa_mpagospesos</th>\n",
       "      <th>Visa_mpagosdolares</th>\n",
       "      <th>Visa_fechaalta</th>\n",
       "      <th>Visa_mconsumototal</th>\n",
       "      <th>Visa_cconsumos</th>\n",
       "      <th>Visa_cadelantosefectivo</th>\n",
       "      <th>Visa_mpagominimo</th>\n",
       "    </tr>\n",
       "  </thead>\n",
       "  <tbody>\n",
       "    <tr>\n",
       "      <th>0</th>\n",
       "      <td>-0.004904</td>\n",
       "      <td>0.0</td>\n",
       "      <td>0.0</td>\n",
       "      <td>0.0</td>\n",
       "      <td>-0.002334</td>\n",
       "      <td>0.043758</td>\n",
       "      <td>0.013983</td>\n",
       "      <td>-0.041278</td>\n",
       "      <td>0.196130</td>\n",
       "      <td>0.000189</td>\n",
       "      <td>...</td>\n",
       "      <td>0.0</td>\n",
       "      <td>-0.000616</td>\n",
       "      <td>0.011454</td>\n",
       "      <td>-0.014267</td>\n",
       "      <td>-0.002817</td>\n",
       "      <td>-0.021265</td>\n",
       "      <td>0.0</td>\n",
       "      <td>-0.015299</td>\n",
       "      <td>0.0</td>\n",
       "      <td>-0.053038</td>\n",
       "    </tr>\n",
       "    <tr>\n",
       "      <th>1</th>\n",
       "      <td>-0.013970</td>\n",
       "      <td>0.0</td>\n",
       "      <td>0.0</td>\n",
       "      <td>0.0</td>\n",
       "      <td>-0.004382</td>\n",
       "      <td>0.048569</td>\n",
       "      <td>0.011794</td>\n",
       "      <td>0.006623</td>\n",
       "      <td>-0.096754</td>\n",
       "      <td>-0.011399</td>\n",
       "      <td>...</td>\n",
       "      <td>0.0</td>\n",
       "      <td>0.001421</td>\n",
       "      <td>-0.057956</td>\n",
       "      <td>-0.006672</td>\n",
       "      <td>0.011768</td>\n",
       "      <td>0.004617</td>\n",
       "      <td>0.0</td>\n",
       "      <td>-0.003721</td>\n",
       "      <td>0.0</td>\n",
       "      <td>-0.060725</td>\n",
       "    </tr>\n",
       "    <tr>\n",
       "      <th>2</th>\n",
       "      <td>-0.022926</td>\n",
       "      <td>0.0</td>\n",
       "      <td>0.0</td>\n",
       "      <td>0.0</td>\n",
       "      <td>-0.001292</td>\n",
       "      <td>-0.410950</td>\n",
       "      <td>0.011234</td>\n",
       "      <td>0.023368</td>\n",
       "      <td>0.058636</td>\n",
       "      <td>0.006585</td>\n",
       "      <td>...</td>\n",
       "      <td>0.0</td>\n",
       "      <td>0.001724</td>\n",
       "      <td>-0.030290</td>\n",
       "      <td>0.008067</td>\n",
       "      <td>-0.001562</td>\n",
       "      <td>-0.001833</td>\n",
       "      <td>0.0</td>\n",
       "      <td>-0.007120</td>\n",
       "      <td>0.0</td>\n",
       "      <td>0.016079</td>\n",
       "    </tr>\n",
       "    <tr>\n",
       "      <th>3</th>\n",
       "      <td>-0.018709</td>\n",
       "      <td>0.0</td>\n",
       "      <td>0.0</td>\n",
       "      <td>0.0</td>\n",
       "      <td>-0.002978</td>\n",
       "      <td>-0.213675</td>\n",
       "      <td>0.009803</td>\n",
       "      <td>-0.010034</td>\n",
       "      <td>-0.031874</td>\n",
       "      <td>-0.016405</td>\n",
       "      <td>...</td>\n",
       "      <td>0.0</td>\n",
       "      <td>0.001045</td>\n",
       "      <td>-0.000576</td>\n",
       "      <td>-0.014958</td>\n",
       "      <td>-0.003360</td>\n",
       "      <td>-0.063228</td>\n",
       "      <td>0.0</td>\n",
       "      <td>-0.000538</td>\n",
       "      <td>0.0</td>\n",
       "      <td>-0.111314</td>\n",
       "    </tr>\n",
       "    <tr>\n",
       "      <th>4</th>\n",
       "      <td>-0.012726</td>\n",
       "      <td>0.0</td>\n",
       "      <td>0.0</td>\n",
       "      <td>0.0</td>\n",
       "      <td>-0.002094</td>\n",
       "      <td>-0.203420</td>\n",
       "      <td>0.014232</td>\n",
       "      <td>-0.044485</td>\n",
       "      <td>0.168928</td>\n",
       "      <td>-0.012609</td>\n",
       "      <td>...</td>\n",
       "      <td>0.0</td>\n",
       "      <td>-0.002317</td>\n",
       "      <td>0.011874</td>\n",
       "      <td>-0.029288</td>\n",
       "      <td>-0.002845</td>\n",
       "      <td>-0.056215</td>\n",
       "      <td>0.0</td>\n",
       "      <td>-0.005447</td>\n",
       "      <td>0.0</td>\n",
       "      <td>-0.099260</td>\n",
       "    </tr>\n",
       "    <tr>\n",
       "      <th>...</th>\n",
       "      <td>...</td>\n",
       "      <td>...</td>\n",
       "      <td>...</td>\n",
       "      <td>...</td>\n",
       "      <td>...</td>\n",
       "      <td>...</td>\n",
       "      <td>...</td>\n",
       "      <td>...</td>\n",
       "      <td>...</td>\n",
       "      <td>...</td>\n",
       "      <td>...</td>\n",
       "      <td>...</td>\n",
       "      <td>...</td>\n",
       "      <td>...</td>\n",
       "      <td>...</td>\n",
       "      <td>...</td>\n",
       "      <td>...</td>\n",
       "      <td>...</td>\n",
       "      <td>...</td>\n",
       "      <td>...</td>\n",
       "      <td>...</td>\n",
       "    </tr>\n",
       "    <tr>\n",
       "      <th>1509</th>\n",
       "      <td>0.022436</td>\n",
       "      <td>0.0</td>\n",
       "      <td>0.0</td>\n",
       "      <td>0.0</td>\n",
       "      <td>-0.001274</td>\n",
       "      <td>0.045961</td>\n",
       "      <td>-0.071549</td>\n",
       "      <td>0.013633</td>\n",
       "      <td>-0.094009</td>\n",
       "      <td>-0.014529</td>\n",
       "      <td>...</td>\n",
       "      <td>0.0</td>\n",
       "      <td>0.001330</td>\n",
       "      <td>0.001324</td>\n",
       "      <td>-0.026429</td>\n",
       "      <td>-0.002340</td>\n",
       "      <td>0.062294</td>\n",
       "      <td>0.0</td>\n",
       "      <td>0.005572</td>\n",
       "      <td>0.0</td>\n",
       "      <td>0.079506</td>\n",
       "    </tr>\n",
       "    <tr>\n",
       "      <th>1510</th>\n",
       "      <td>0.014711</td>\n",
       "      <td>0.0</td>\n",
       "      <td>0.0</td>\n",
       "      <td>0.0</td>\n",
       "      <td>-0.002212</td>\n",
       "      <td>0.031978</td>\n",
       "      <td>-0.073241</td>\n",
       "      <td>0.003024</td>\n",
       "      <td>-0.105791</td>\n",
       "      <td>0.000905</td>\n",
       "      <td>...</td>\n",
       "      <td>0.0</td>\n",
       "      <td>0.001267</td>\n",
       "      <td>0.000154</td>\n",
       "      <td>-0.013291</td>\n",
       "      <td>0.011133</td>\n",
       "      <td>0.055093</td>\n",
       "      <td>0.0</td>\n",
       "      <td>0.003651</td>\n",
       "      <td>0.0</td>\n",
       "      <td>-0.071855</td>\n",
       "    </tr>\n",
       "    <tr>\n",
       "      <th>1511</th>\n",
       "      <td>0.015259</td>\n",
       "      <td>0.0</td>\n",
       "      <td>0.0</td>\n",
       "      <td>0.0</td>\n",
       "      <td>-0.002597</td>\n",
       "      <td>0.053010</td>\n",
       "      <td>-0.078954</td>\n",
       "      <td>0.022112</td>\n",
       "      <td>-0.120325</td>\n",
       "      <td>-0.005999</td>\n",
       "      <td>...</td>\n",
       "      <td>0.0</td>\n",
       "      <td>0.001442</td>\n",
       "      <td>0.000127</td>\n",
       "      <td>-0.011322</td>\n",
       "      <td>0.013452</td>\n",
       "      <td>0.080696</td>\n",
       "      <td>0.0</td>\n",
       "      <td>-0.000698</td>\n",
       "      <td>0.0</td>\n",
       "      <td>-0.128532</td>\n",
       "    </tr>\n",
       "    <tr>\n",
       "      <th>1512</th>\n",
       "      <td>0.005852</td>\n",
       "      <td>0.0</td>\n",
       "      <td>0.0</td>\n",
       "      <td>0.0</td>\n",
       "      <td>-0.003329</td>\n",
       "      <td>-0.179921</td>\n",
       "      <td>-0.070015</td>\n",
       "      <td>-0.004753</td>\n",
       "      <td>-0.104875</td>\n",
       "      <td>-0.015815</td>\n",
       "      <td>...</td>\n",
       "      <td>0.0</td>\n",
       "      <td>0.001135</td>\n",
       "      <td>-0.000063</td>\n",
       "      <td>-0.009317</td>\n",
       "      <td>0.012196</td>\n",
       "      <td>0.086014</td>\n",
       "      <td>0.0</td>\n",
       "      <td>-0.000202</td>\n",
       "      <td>0.0</td>\n",
       "      <td>-0.069681</td>\n",
       "    </tr>\n",
       "    <tr>\n",
       "      <th>1513</th>\n",
       "      <td>0.018028</td>\n",
       "      <td>0.0</td>\n",
       "      <td>0.0</td>\n",
       "      <td>0.0</td>\n",
       "      <td>-0.002379</td>\n",
       "      <td>0.015552</td>\n",
       "      <td>-0.139793</td>\n",
       "      <td>0.023018</td>\n",
       "      <td>-0.058858</td>\n",
       "      <td>0.003393</td>\n",
       "      <td>...</td>\n",
       "      <td>0.0</td>\n",
       "      <td>0.001300</td>\n",
       "      <td>-0.000924</td>\n",
       "      <td>-0.004851</td>\n",
       "      <td>0.009382</td>\n",
       "      <td>0.034476</td>\n",
       "      <td>0.0</td>\n",
       "      <td>0.009298</td>\n",
       "      <td>0.0</td>\n",
       "      <td>-0.073680</td>\n",
       "    </tr>\n",
       "  </tbody>\n",
       "</table>\n",
       "<p>1514 rows × 154 columns</p>\n",
       "</div>"
      ],
      "text/plain": [
       "      numero_de_cliente  foto_mes  active_quarter  cliente_vip  internet  \\\n",
       "0             -0.004904       0.0             0.0          0.0 -0.002334   \n",
       "1             -0.013970       0.0             0.0          0.0 -0.004382   \n",
       "2             -0.022926       0.0             0.0          0.0 -0.001292   \n",
       "3             -0.018709       0.0             0.0          0.0 -0.002978   \n",
       "4             -0.012726       0.0             0.0          0.0 -0.002094   \n",
       "...                 ...       ...             ...          ...       ...   \n",
       "1509           0.022436       0.0             0.0          0.0 -0.001274   \n",
       "1510           0.014711       0.0             0.0          0.0 -0.002212   \n",
       "1511           0.015259       0.0             0.0          0.0 -0.002597   \n",
       "1512           0.005852       0.0             0.0          0.0 -0.003329   \n",
       "1513           0.018028       0.0             0.0          0.0 -0.002379   \n",
       "\n",
       "      cliente_edad  cliente_antiguedad  mrentabilidad  mrentabilidad_annual  \\\n",
       "0         0.043758            0.013983      -0.041278              0.196130   \n",
       "1         0.048569            0.011794       0.006623             -0.096754   \n",
       "2        -0.410950            0.011234       0.023368              0.058636   \n",
       "3        -0.213675            0.009803      -0.010034             -0.031874   \n",
       "4        -0.203420            0.014232      -0.044485              0.168928   \n",
       "...            ...                 ...            ...                   ...   \n",
       "1509      0.045961           -0.071549       0.013633             -0.094009   \n",
       "1510      0.031978           -0.073241       0.003024             -0.105791   \n",
       "1511      0.053010           -0.078954       0.022112             -0.120325   \n",
       "1512     -0.179921           -0.070015      -0.004753             -0.104875   \n",
       "1513      0.015552           -0.139793       0.023018             -0.058858   \n",
       "\n",
       "      mcomisiones  ...  Visa_madelantodolares  Visa_fultimo_cierre  \\\n",
       "0        0.000189  ...                    0.0            -0.000616   \n",
       "1       -0.011399  ...                    0.0             0.001421   \n",
       "2        0.006585  ...                    0.0             0.001724   \n",
       "3       -0.016405  ...                    0.0             0.001045   \n",
       "4       -0.012609  ...                    0.0            -0.002317   \n",
       "...           ...  ...                    ...                  ...   \n",
       "1509    -0.014529  ...                    0.0             0.001330   \n",
       "1510     0.000905  ...                    0.0             0.001267   \n",
       "1511    -0.005999  ...                    0.0             0.001442   \n",
       "1512    -0.015815  ...                    0.0             0.001135   \n",
       "1513     0.003393  ...                    0.0             0.001300   \n",
       "\n",
       "      Visa_mpagado  Visa_mpagospesos  Visa_mpagosdolares  Visa_fechaalta  \\\n",
       "0         0.011454         -0.014267           -0.002817       -0.021265   \n",
       "1        -0.057956         -0.006672            0.011768        0.004617   \n",
       "2        -0.030290          0.008067           -0.001562       -0.001833   \n",
       "3        -0.000576         -0.014958           -0.003360       -0.063228   \n",
       "4         0.011874         -0.029288           -0.002845       -0.056215   \n",
       "...            ...               ...                 ...             ...   \n",
       "1509      0.001324         -0.026429           -0.002340        0.062294   \n",
       "1510      0.000154         -0.013291            0.011133        0.055093   \n",
       "1511      0.000127         -0.011322            0.013452        0.080696   \n",
       "1512     -0.000063         -0.009317            0.012196        0.086014   \n",
       "1513     -0.000924         -0.004851            0.009382        0.034476   \n",
       "\n",
       "      Visa_mconsumototal  Visa_cconsumos  Visa_cadelantosefectivo  \\\n",
       "0                    0.0       -0.015299                      0.0   \n",
       "1                    0.0       -0.003721                      0.0   \n",
       "2                    0.0       -0.007120                      0.0   \n",
       "3                    0.0       -0.000538                      0.0   \n",
       "4                    0.0       -0.005447                      0.0   \n",
       "...                  ...             ...                      ...   \n",
       "1509                 0.0        0.005572                      0.0   \n",
       "1510                 0.0        0.003651                      0.0   \n",
       "1511                 0.0       -0.000698                      0.0   \n",
       "1512                 0.0       -0.000202                      0.0   \n",
       "1513                 0.0        0.009298                      0.0   \n",
       "\n",
       "      Visa_mpagominimo  \n",
       "0            -0.053038  \n",
       "1            -0.060725  \n",
       "2             0.016079  \n",
       "3            -0.111314  \n",
       "4            -0.099260  \n",
       "...                ...  \n",
       "1509          0.079506  \n",
       "1510         -0.071855  \n",
       "1511         -0.128532  \n",
       "1512         -0.069681  \n",
       "1513         -0.073680  \n",
       "\n",
       "[1514 rows x 154 columns]"
      ]
     },
     "execution_count": 103,
     "metadata": {},
     "output_type": "execute_result"
    }
   ],
   "source": [
    "shap_bajas = pd.DataFrame(shap_values[0], columns = Xbajas.columns)\n",
    "shap_bajas"
   ]
  },
  {
   "cell_type": "markdown",
   "metadata": {},
   "source": [
    "Y consolidamos sus importancias"
   ]
  },
  {
   "cell_type": "code",
   "execution_count": 104,
   "metadata": {},
   "outputs": [
    {
     "data": {
      "text/plain": [
       "ctrx_quarter                     0.966983\n",
       "cpayroll_trx                     0.611897\n",
       "mtarjeta_visa_consumo            0.195651\n",
       "mcuentas_saldo                   0.170158\n",
       "mpasivos_margen                  0.141330\n",
       "                                   ...   \n",
       "cseguro_auto                     0.000000\n",
       "cseguro_accidentes_personales    0.000000\n",
       "mpayroll2                        0.000000\n",
       "mcheques_emitidos_rechazados     0.000000\n",
       "mforex_buy                       0.000000\n",
       "Length: 154, dtype: float64"
      ]
     },
     "execution_count": 104,
     "metadata": {},
     "output_type": "execute_result"
    }
   ],
   "source": [
    "shap_importancias = shap_bajas.mean().abs().sort_values(ascending=False)\n",
    "shap_importancias"
   ]
  },
  {
   "cell_type": "markdown",
   "metadata": {},
   "source": [
    "La librería nos da útiles herramientas para vizualizar la info anterior"
   ]
  },
  {
   "cell_type": "code",
   "execution_count": 105,
   "metadata": {},
   "outputs": [
    {
     "data": {
      "image/png": "[encoded data removed]",
      "text/plain": [
       "<Figure size 576x684 with 1 Axes>"
      ]
     },
     "metadata": {
      "needs_background": "light"
     },
     "output_type": "display_data"
    }
   ],
   "source": [
    "shap.summary_plot(shap_values, Xbajas)\n"
   ]
  },
  {
   "cell_type": "markdown",
   "metadata": {},
   "source": [
    "Y ahora debemos empezar a jugar para entender como estan asociadas las variables a los **shap values**"
   ]
  },
  {
   "cell_type": "code",
   "execution_count": 106,
   "metadata": {},
   "outputs": [
    {
     "data": {
      "image/png": "[encoded data removed]",
      "text/plain": [
       "<Figure size 540x360 with 2 Axes>"
      ]
     },
     "metadata": {
      "needs_background": "light"
     },
     "output_type": "display_data"
    }
   ],
   "source": [
    "shap.dependence_plot(\"cliente_edad\", shap_values[0], Xbajas)"
   ]
  },
  {
   "cell_type": "markdown",
   "metadata": {},
   "source": [
    "¿Se podrá hacer una clusterización sobre los valores de shap? \n",
    "\n",
    "Como la cantidad de variables es muy alto, es conveniente hacer un embedding con **UMAP**. Como la estrutura de los **shap values** se pueden hacer sin mucho preprocesamiento."
   ]
  },
  {
   "cell_type": "code",
   "execution_count": 21,
   "metadata": {},
   "outputs": [],
   "source": [
    "from umap import UMAP\n",
    "import matplotlib.pyplot as plt\n"
   ]
  },
  {
   "cell_type": "code",
   "execution_count": 125,
   "metadata": {},
   "outputs": [
    {
     "data": {
      "text/plain": [
       "<matplotlib.collections.PathCollection at 0x1d288408df0>"
      ]
     },
     "execution_count": 125,
     "metadata": {},
     "output_type": "execute_result"
    },
    {
     "data": {
      "image/png": "[encoded data removed]",
      "text/plain": [
       "<Figure size 432x288 with 1 Axes>"
      ]
     },
     "metadata": {
      "needs_background": "light"
     },
     "output_type": "display_data"
    }
   ],
   "source": [
    "embedding_2d = UMAP(\n",
    "  n_components=2, n_neighbors=40\n",
    ").fit_transform(shap_values[0])\n",
    "plt.scatter(embedding_2d[:,0], embedding_2d[:,1])\n",
    "\n",
    "import hdbscan\n",
    "labels = hdbscan.HDBSCAN(\n",
    "    min_samples=30,\n",
    "    min_cluster_size=40,\n",
    ").fit_predict(embedding_2d)\n",
    "\n",
    "plt.scatter(embedding_2d[:,0], embedding_2d[:,1], c=labels)"
   ]
  },
  {
   "cell_type": "markdown",
   "metadata": {},
   "source": [
    "Su momento de brillar: Qué se puede hacer desde este punto para tratar de interpretar los distintos segmentos para la presentación de Miranda."
   ]
  },
  {
   "cell_type": "markdown",
   "metadata": {},
   "source": [
    "Aplicacion del resumen de valores de variable por cluster para el script de Denicolay"
   ]
  },
  {
   "cell_type": "code",
   "execution_count": 155,
   "metadata": {},
   "outputs": [],
   "source": [
    "# Importo el dataset\n",
    "\n",
    "df_mean = pd.read_csv(\"D:\\\\OneDrive\\\\Personal\\\\Maestria Data Mining\\\\economia_finanzas\\\\exp\\\\CLU1262\\\\resumen_variables.txt\",sep='\\t')"
   ]
  },
  {
   "cell_type": "code",
   "execution_count": 156,
   "metadata": {},
   "outputs": [
    {
     "data": {
      "text/html": [
       "<div>\n",
       "<style scoped>\n",
       "    .dataframe tbody tr th:only-of-type {\n",
       "        vertical-align: middle;\n",
       "    }\n",
       "\n",
       "    .dataframe tbody tr th {\n",
       "        vertical-align: top;\n",
       "    }\n",
       "\n",
       "    .dataframe thead th {\n",
       "        text-align: right;\n",
       "    }\n",
       "</style>\n",
       "<table border=\"1\" class=\"dataframe\">\n",
       "  <thead>\n",
       "    <tr style=\"text-align: right;\">\n",
       "      <th></th>\n",
       "      <th>cluster2</th>\n",
       "      <th>ctrx_quarter_name</th>\n",
       "      <th>cpayroll_trx_name</th>\n",
       "      <th>mcaja_ahorro_name</th>\n",
       "      <th>mtarjeta_visa_consumo_name</th>\n",
       "      <th>ctarjeta_visa_transacciones_name</th>\n",
       "      <th>mcuentas_saldo_name</th>\n",
       "      <th>mrentabilidad_annual_name</th>\n",
       "      <th>mprestamos_personales_name</th>\n",
       "      <th>mactivos_margen_name</th>\n",
       "      <th>...</th>\n",
       "      <th>cproductos_name</th>\n",
       "      <th>mcomisiones_otras_name</th>\n",
       "      <th>thomebanking_name</th>\n",
       "      <th>mcuenta_debitos_automaticos_name</th>\n",
       "      <th>mcomisiones_name</th>\n",
       "      <th>Visa_cconsumos_name</th>\n",
       "      <th>ccomisiones_otras_name</th>\n",
       "      <th>Master_status_name</th>\n",
       "      <th>mtransferencias_emitidas_name</th>\n",
       "      <th>mpagomiscuentas_name</th>\n",
       "    </tr>\n",
       "  </thead>\n",
       "  <tbody>\n",
       "    <tr>\n",
       "      <th>0</th>\n",
       "      <td>1</td>\n",
       "      <td>30.870205</td>\n",
       "      <td>0.128082</td>\n",
       "      <td>20786.921247</td>\n",
       "      <td>2176.054315</td>\n",
       "      <td>1.071575</td>\n",
       "      <td>36907.991654</td>\n",
       "      <td>13981.868716</td>\n",
       "      <td>6348.930298</td>\n",
       "      <td>115.072017</td>\n",
       "      <td>...</td>\n",
       "      <td>6.733904</td>\n",
       "      <td>941.918226</td>\n",
       "      <td>0.589726</td>\n",
       "      <td>758.812603</td>\n",
       "      <td>941.125113</td>\n",
       "      <td>2.161644</td>\n",
       "      <td>3.633562</td>\n",
       "      <td>0.533904</td>\n",
       "      <td>17582.084342</td>\n",
       "      <td>2261.608705</td>\n",
       "    </tr>\n",
       "    <tr>\n",
       "      <th>1</th>\n",
       "      <td>2</td>\n",
       "      <td>3.498580</td>\n",
       "      <td>0.005682</td>\n",
       "      <td>183.089176</td>\n",
       "      <td>0.000000</td>\n",
       "      <td>0.000000</td>\n",
       "      <td>-41859.813111</td>\n",
       "      <td>8170.528892</td>\n",
       "      <td>16346.450966</td>\n",
       "      <td>-180.027784</td>\n",
       "      <td>...</td>\n",
       "      <td>4.866477</td>\n",
       "      <td>123.135142</td>\n",
       "      <td>0.095170</td>\n",
       "      <td>5.683580</td>\n",
       "      <td>123.134645</td>\n",
       "      <td>2.000000</td>\n",
       "      <td>0.690341</td>\n",
       "      <td>0.338068</td>\n",
       "      <td>4.821960</td>\n",
       "      <td>7.191278</td>\n",
       "    </tr>\n",
       "    <tr>\n",
       "      <th>2</th>\n",
       "      <td>3</td>\n",
       "      <td>3.558209</td>\n",
       "      <td>0.004478</td>\n",
       "      <td>117.294075</td>\n",
       "      <td>0.000000</td>\n",
       "      <td>0.000000</td>\n",
       "      <td>-3263.078090</td>\n",
       "      <td>4244.016194</td>\n",
       "      <td>1088.482896</td>\n",
       "      <td>75.446269</td>\n",
       "      <td>...</td>\n",
       "      <td>6.359701</td>\n",
       "      <td>355.329209</td>\n",
       "      <td>0.005970</td>\n",
       "      <td>6.233731</td>\n",
       "      <td>355.329209</td>\n",
       "      <td>1.994030</td>\n",
       "      <td>0.761194</td>\n",
       "      <td>0.388060</td>\n",
       "      <td>21.858239</td>\n",
       "      <td>0.525224</td>\n",
       "    </tr>\n",
       "    <tr>\n",
       "      <th>3</th>\n",
       "      <td>4</td>\n",
       "      <td>33.539120</td>\n",
       "      <td>0.188264</td>\n",
       "      <td>15057.162311</td>\n",
       "      <td>0.000000</td>\n",
       "      <td>0.000000</td>\n",
       "      <td>28783.662078</td>\n",
       "      <td>29342.983900</td>\n",
       "      <td>28747.709120</td>\n",
       "      <td>1714.798350</td>\n",
       "      <td>...</td>\n",
       "      <td>5.389976</td>\n",
       "      <td>1142.939670</td>\n",
       "      <td>0.541565</td>\n",
       "      <td>549.791284</td>\n",
       "      <td>1143.374548</td>\n",
       "      <td>2.000000</td>\n",
       "      <td>4.364303</td>\n",
       "      <td>0.212714</td>\n",
       "      <td>12582.207445</td>\n",
       "      <td>2110.771015</td>\n",
       "    </tr>\n",
       "    <tr>\n",
       "      <th>4</th>\n",
       "      <td>5</td>\n",
       "      <td>44.144836</td>\n",
       "      <td>0.127834</td>\n",
       "      <td>14605.264578</td>\n",
       "      <td>8464.157991</td>\n",
       "      <td>4.182620</td>\n",
       "      <td>41126.804112</td>\n",
       "      <td>12135.439433</td>\n",
       "      <td>3655.623105</td>\n",
       "      <td>-189.035730</td>\n",
       "      <td>...</td>\n",
       "      <td>7.018892</td>\n",
       "      <td>1158.121770</td>\n",
       "      <td>0.688917</td>\n",
       "      <td>850.067928</td>\n",
       "      <td>1157.330372</td>\n",
       "      <td>2.129093</td>\n",
       "      <td>5.944584</td>\n",
       "      <td>0.010076</td>\n",
       "      <td>18744.611681</td>\n",
       "      <td>4405.486921</td>\n",
       "    </tr>\n",
       "    <tr>\n",
       "      <th>5</th>\n",
       "      <td>6</td>\n",
       "      <td>89.029727</td>\n",
       "      <td>0.245252</td>\n",
       "      <td>29832.403691</td>\n",
       "      <td>35970.594055</td>\n",
       "      <td>15.525186</td>\n",
       "      <td>76545.675012</td>\n",
       "      <td>17515.271536</td>\n",
       "      <td>7087.964723</td>\n",
       "      <td>-654.227737</td>\n",
       "      <td>...</td>\n",
       "      <td>7.239472</td>\n",
       "      <td>1560.248183</td>\n",
       "      <td>0.804294</td>\n",
       "      <td>2613.299992</td>\n",
       "      <td>1559.193931</td>\n",
       "      <td>9.827415</td>\n",
       "      <td>7.663088</td>\n",
       "      <td>0.014864</td>\n",
       "      <td>38841.597812</td>\n",
       "      <td>6581.382064</td>\n",
       "    </tr>\n",
       "    <tr>\n",
       "      <th>6</th>\n",
       "      <td>7</td>\n",
       "      <td>3.901895</td>\n",
       "      <td>0.001115</td>\n",
       "      <td>94.802297</td>\n",
       "      <td>0.000000</td>\n",
       "      <td>0.000000</td>\n",
       "      <td>-14658.323523</td>\n",
       "      <td>14822.946232</td>\n",
       "      <td>5925.762765</td>\n",
       "      <td>691.957815</td>\n",
       "      <td>...</td>\n",
       "      <td>5.544036</td>\n",
       "      <td>1594.007458</td>\n",
       "      <td>0.003344</td>\n",
       "      <td>14.214426</td>\n",
       "      <td>1594.062586</td>\n",
       "      <td>1.997770</td>\n",
       "      <td>2.394649</td>\n",
       "      <td>0.185061</td>\n",
       "      <td>4.576923</td>\n",
       "      <td>0.196154</td>\n",
       "    </tr>\n",
       "  </tbody>\n",
       "</table>\n",
       "<p>7 rows × 40 columns</p>\n",
       "</div>"
      ],
      "text/plain": [
       "   cluster2  ctrx_quarter_name  cpayroll_trx_name  mcaja_ahorro_name  \\\n",
       "0         1          30.870205           0.128082       20786.921247   \n",
       "1         2           3.498580           0.005682         183.089176   \n",
       "2         3           3.558209           0.004478         117.294075   \n",
       "3         4          33.539120           0.188264       15057.162311   \n",
       "4         5          44.144836           0.127834       14605.264578   \n",
       "5         6          89.029727           0.245252       29832.403691   \n",
       "6         7           3.901895           0.001115          94.802297   \n",
       "\n",
       "   mtarjeta_visa_consumo_name  ctarjeta_visa_transacciones_name  \\\n",
       "0                 2176.054315                          1.071575   \n",
       "1                    0.000000                          0.000000   \n",
       "2                    0.000000                          0.000000   \n",
       "3                    0.000000                          0.000000   \n",
       "4                 8464.157991                          4.182620   \n",
       "5                35970.594055                         15.525186   \n",
       "6                    0.000000                          0.000000   \n",
       "\n",
       "   mcuentas_saldo_name  mrentabilidad_annual_name  mprestamos_personales_name  \\\n",
       "0         36907.991654               13981.868716                 6348.930298   \n",
       "1        -41859.813111                8170.528892                16346.450966   \n",
       "2         -3263.078090                4244.016194                 1088.482896   \n",
       "3         28783.662078               29342.983900                28747.709120   \n",
       "4         41126.804112               12135.439433                 3655.623105   \n",
       "5         76545.675012               17515.271536                 7087.964723   \n",
       "6        -14658.323523               14822.946232                 5925.762765   \n",
       "\n",
       "   mactivos_margen_name  ...  cproductos_name  mcomisiones_otras_name  \\\n",
       "0            115.072017  ...         6.733904              941.918226   \n",
       "1           -180.027784  ...         4.866477              123.135142   \n",
       "2             75.446269  ...         6.359701              355.329209   \n",
       "3           1714.798350  ...         5.389976             1142.939670   \n",
       "4           -189.035730  ...         7.018892             1158.121770   \n",
       "5           -654.227737  ...         7.239472             1560.248183   \n",
       "6            691.957815  ...         5.544036             1594.007458   \n",
       "\n",
       "   thomebanking_name  mcuenta_debitos_automaticos_name  mcomisiones_name  \\\n",
       "0           0.589726                        758.812603        941.125113   \n",
       "1           0.095170                          5.683580        123.134645   \n",
       "2           0.005970                          6.233731        355.329209   \n",
       "3           0.541565                        549.791284       1143.374548   \n",
       "4           0.688917                        850.067928       1157.330372   \n",
       "5           0.804294                       2613.299992       1559.193931   \n",
       "6           0.003344                         14.214426       1594.062586   \n",
       "\n",
       "   Visa_cconsumos_name  ccomisiones_otras_name  Master_status_name  \\\n",
       "0             2.161644                3.633562            0.533904   \n",
       "1             2.000000                0.690341            0.338068   \n",
       "2             1.994030                0.761194            0.388060   \n",
       "3             2.000000                4.364303            0.212714   \n",
       "4             2.129093                5.944584            0.010076   \n",
       "5             9.827415                7.663088            0.014864   \n",
       "6             1.997770                2.394649            0.185061   \n",
       "\n",
       "   mtransferencias_emitidas_name  mpagomiscuentas_name  \n",
       "0                   17582.084342           2261.608705  \n",
       "1                       4.821960              7.191278  \n",
       "2                      21.858239              0.525224  \n",
       "3                   12582.207445           2110.771015  \n",
       "4                   18744.611681           4405.486921  \n",
       "5                   38841.597812           6581.382064  \n",
       "6                       4.576923              0.196154  \n",
       "\n",
       "[7 rows x 40 columns]"
      ]
     },
     "execution_count": 156,
     "metadata": {},
     "output_type": "execute_result"
    }
   ],
   "source": [
    "df_mean"
   ]
  },
  {
   "cell_type": "code",
   "execution_count": 157,
   "metadata": {},
   "outputs": [
    {
     "data": {
      "text/plain": [
       "'\\n  cluster2 total_count\\n     <int>       <int>\\n1        1        2920\\n2        2         704\\n3        3         670\\n4        4         818\\n5        5        1588\\n6        6        1211\\n7        7         897\\n\\n\\n'"
      ]
     },
     "execution_count": 157,
     "metadata": {},
     "output_type": "execute_result"
    }
   ],
   "source": [
    "#Defino que que es cada variable\n",
    "\n",
    "#ctrx_quarter\n",
    "#Cantidad de movimientos voluntarios en las cuentas bancarias ( no tarjeta de credito ) que el cliente realizó en los ultimos 90 dias.\n",
    "\n",
    "#cpayroll_trx\n",
    "#Cantidad de Acreditaciones de Haberes en relación de depencia que le hicieron al cliente en ese mes.  \n",
    "# Un cliente puede estar en relacion de dependencia con mas de una empresa. Una empresa puede hacerle VARIOS depósitos al mismo empleado durante el mes.  Soalmente se consideran las acreditaciones de empresas que tienen un contrato con el banco.\n",
    "\n",
    "#mcaja_ahorro\n",
    "#Monto total de la caja de ahorro del Paquete Premium\n",
    "\n",
    "#mtarjeta_visa_consumo\n",
    "#Monto total de los consumos efectuados durante el mes con la tarjeta de crédito VISA\n",
    "\n",
    "#ctarjeta_visa_transacciones\n",
    "#Cantidad de transacciones efectuadas durante el mes con la tarjeta de crédito VISA\n",
    "\n",
    "#mcuentas_saldo\n",
    "#Saldo total de TODAS las cuentas del cliente, cajas de ahorro, cuentas corrientes, pesos y dolares. El valor esta convertido a pesos.\n",
    "\n",
    "#mrentabilidad_annual\n",
    "#Ganancia total que el banco ha obtenido de ese cliente en el ultimo año de relacion cliente-banco,  o meses desde que ingresó si es cliente reciente.\n",
    "\n",
    "#mprestamos_personales\n",
    "#Monto total de la deuda restante de todos los préstamos personales del cliente.\n",
    "\n",
    "#mcuenta_debitos_automaticos\n",
    "#Monto total de  débitos automáticos debitados durante el mes en las cuentas  ( no tarjetas de crédito ) . Todo está convertido a pesos argentinos, al valor de la fecha de cierre del utlimo dia habil del mes.\n",
    "\n",
    "#thomebanking\n",
    "#{0, 1} indica si el cliente está adherido al Home Banking\n",
    "\n",
    "#mtransferencias_emitidas\n",
    "#Monto total de transferencias emitidas en todas las cuentas durante el mes. Puede ser transferencias propias o de terceros.\n",
    "\n",
    "\n",
    "columnas = ['ctrx_quarter_name','cpayroll_trx_name','mcaja_ahorro_name','mtarjeta_visa_consumo_name','ctarjeta_visa_transacciones_name','mcuentas_saldo_name','mrentabilidad_annual_name','mprestamos_personales_name',\n",
    "            'mcuenta_debitos_automaticos_name','thomebanking_name','mtransferencias_emitidas_name']\n",
    "\n",
    "labels = ['Movimientos 90 días','N° Haberes acreditados','Monto caja de ahorro','Consumos tarjeta','N° Transacciones tarjeta','Saldo total','Rentabilidad del banco','Deuda total de préstamos','Débito automatico','Adhesión a Homebanking','Transferencias emitidas']\n",
    "\n",
    "filas = [1,2,3,4,5,6,7]\n",
    "labels_filas = ['MODERADO','PASIVO','PASIVO','MODERADO','MODERADO','ACTIVO','PASIVO']\n",
    "\n",
    "# Reemplazo valor de columasn\n",
    "\n",
    "dic_columnas = {i:j for i,j in zip(columnas,labels)}\n",
    "df_mean.rename(columns=dic_columnas, inplace=True)\n",
    "\n",
    "df_mean.loc[df_mean['cluster2'].isin([1,4,5]), 'Tipo de cliente'] = 'MODERADO'\n",
    "df_mean.loc[df_mean['cluster2'].isin([2,3,7]), 'Tipo de cliente'] = 'PASIVO'\n",
    "df_mean.loc[df_mean['cluster2'].isin([6]), 'Tipo de cliente'] = 'ACTIVO'\n",
    "\n",
    "df_mean['Cantidad_cluster'] = [2920,704,670,818,1588,1211,897]\n",
    "\n",
    "\n",
    "\n",
    "\n",
    "\"\"\"\n",
    "  cluster2 total_count\n",
    "     <int>       <int>\n",
    "1        1        2920\n",
    "2        2         704\n",
    "3        3         670\n",
    "4        4         818\n",
    "5        5        1588\n",
    "6        6        1211\n",
    "7        7         897\n",
    "\n",
    "\n",
    "\"\"\"\n",
    "\n"
   ]
  },
  {
   "cell_type": "code",
   "execution_count": 154,
   "metadata": {},
   "outputs": [
    {
     "data": {
      "text/html": [
       "<div>\n",
       "<style scoped>\n",
       "    .dataframe tbody tr th:only-of-type {\n",
       "        vertical-align: middle;\n",
       "    }\n",
       "\n",
       "    .dataframe tbody tr th {\n",
       "        vertical-align: top;\n",
       "    }\n",
       "\n",
       "    .dataframe thead th {\n",
       "        text-align: right;\n",
       "    }\n",
       "</style>\n",
       "<table border=\"1\" class=\"dataframe\">\n",
       "  <thead>\n",
       "    <tr style=\"text-align: right;\">\n",
       "      <th></th>\n",
       "      <th>cluster2</th>\n",
       "      <th>Movimientos 90 días</th>\n",
       "      <th>N° Haberes acreditados</th>\n",
       "      <th>Monto caja de ahorro</th>\n",
       "      <th>Consumos tarjeta</th>\n",
       "      <th>N° Transacciones tarjeta</th>\n",
       "      <th>Saldo total</th>\n",
       "      <th>Rentabilidad del banco</th>\n",
       "      <th>Deuda total de préstamos</th>\n",
       "      <th>mactivos_margen_name</th>\n",
       "      <th>...</th>\n",
       "      <th>Adhesión a Homebanking</th>\n",
       "      <th>Débito automatico</th>\n",
       "      <th>mcomisiones_name</th>\n",
       "      <th>Visa_cconsumos_name</th>\n",
       "      <th>ccomisiones_otras_name</th>\n",
       "      <th>Master_status_name</th>\n",
       "      <th>Transferencias emitidas</th>\n",
       "      <th>mpagomiscuentas_name</th>\n",
       "      <th>Tipo de cliente</th>\n",
       "      <th>Cantidad_cluster</th>\n",
       "    </tr>\n",
       "  </thead>\n",
       "  <tbody>\n",
       "    <tr>\n",
       "      <th>0</th>\n",
       "      <td>1</td>\n",
       "      <td>30.870205</td>\n",
       "      <td>0.128082</td>\n",
       "      <td>20786.921247</td>\n",
       "      <td>2176.054315</td>\n",
       "      <td>1.071575</td>\n",
       "      <td>36907.991654</td>\n",
       "      <td>13981.868716</td>\n",
       "      <td>6348.930298</td>\n",
       "      <td>115.072017</td>\n",
       "      <td>...</td>\n",
       "      <td>0.589726</td>\n",
       "      <td>758.812603</td>\n",
       "      <td>941.125113</td>\n",
       "      <td>2.161644</td>\n",
       "      <td>3.633562</td>\n",
       "      <td>0.533904</td>\n",
       "      <td>17582.084342</td>\n",
       "      <td>2261.608705</td>\n",
       "      <td>MODERADO</td>\n",
       "      <td>2920</td>\n",
       "    </tr>\n",
       "    <tr>\n",
       "      <th>1</th>\n",
       "      <td>2</td>\n",
       "      <td>3.498580</td>\n",
       "      <td>0.005682</td>\n",
       "      <td>183.089176</td>\n",
       "      <td>0.000000</td>\n",
       "      <td>0.000000</td>\n",
       "      <td>-41859.813111</td>\n",
       "      <td>8170.528892</td>\n",
       "      <td>16346.450966</td>\n",
       "      <td>-180.027784</td>\n",
       "      <td>...</td>\n",
       "      <td>0.095170</td>\n",
       "      <td>5.683580</td>\n",
       "      <td>123.134645</td>\n",
       "      <td>2.000000</td>\n",
       "      <td>0.690341</td>\n",
       "      <td>0.338068</td>\n",
       "      <td>4.821960</td>\n",
       "      <td>7.191278</td>\n",
       "      <td>PASIVO</td>\n",
       "      <td>704</td>\n",
       "    </tr>\n",
       "    <tr>\n",
       "      <th>2</th>\n",
       "      <td>3</td>\n",
       "      <td>3.558209</td>\n",
       "      <td>0.004478</td>\n",
       "      <td>117.294075</td>\n",
       "      <td>0.000000</td>\n",
       "      <td>0.000000</td>\n",
       "      <td>-3263.078090</td>\n",
       "      <td>4244.016194</td>\n",
       "      <td>1088.482896</td>\n",
       "      <td>75.446269</td>\n",
       "      <td>...</td>\n",
       "      <td>0.005970</td>\n",
       "      <td>6.233731</td>\n",
       "      <td>355.329209</td>\n",
       "      <td>1.994030</td>\n",
       "      <td>0.761194</td>\n",
       "      <td>0.388060</td>\n",
       "      <td>21.858239</td>\n",
       "      <td>0.525224</td>\n",
       "      <td>PASIVO</td>\n",
       "      <td>670</td>\n",
       "    </tr>\n",
       "    <tr>\n",
       "      <th>3</th>\n",
       "      <td>4</td>\n",
       "      <td>33.539120</td>\n",
       "      <td>0.188264</td>\n",
       "      <td>15057.162311</td>\n",
       "      <td>0.000000</td>\n",
       "      <td>0.000000</td>\n",
       "      <td>28783.662078</td>\n",
       "      <td>29342.983900</td>\n",
       "      <td>28747.709120</td>\n",
       "      <td>1714.798350</td>\n",
       "      <td>...</td>\n",
       "      <td>0.541565</td>\n",
       "      <td>549.791284</td>\n",
       "      <td>1143.374548</td>\n",
       "      <td>2.000000</td>\n",
       "      <td>4.364303</td>\n",
       "      <td>0.212714</td>\n",
       "      <td>12582.207445</td>\n",
       "      <td>2110.771015</td>\n",
       "      <td>MODERADO</td>\n",
       "      <td>818</td>\n",
       "    </tr>\n",
       "    <tr>\n",
       "      <th>4</th>\n",
       "      <td>5</td>\n",
       "      <td>44.144836</td>\n",
       "      <td>0.127834</td>\n",
       "      <td>14605.264578</td>\n",
       "      <td>8464.157991</td>\n",
       "      <td>4.182620</td>\n",
       "      <td>41126.804112</td>\n",
       "      <td>12135.439433</td>\n",
       "      <td>3655.623105</td>\n",
       "      <td>-189.035730</td>\n",
       "      <td>...</td>\n",
       "      <td>0.688917</td>\n",
       "      <td>850.067928</td>\n",
       "      <td>1157.330372</td>\n",
       "      <td>2.129093</td>\n",
       "      <td>5.944584</td>\n",
       "      <td>0.010076</td>\n",
       "      <td>18744.611681</td>\n",
       "      <td>4405.486921</td>\n",
       "      <td>MODERADO</td>\n",
       "      <td>1588</td>\n",
       "    </tr>\n",
       "    <tr>\n",
       "      <th>5</th>\n",
       "      <td>6</td>\n",
       "      <td>89.029727</td>\n",
       "      <td>0.245252</td>\n",
       "      <td>29832.403691</td>\n",
       "      <td>35970.594055</td>\n",
       "      <td>15.525186</td>\n",
       "      <td>76545.675012</td>\n",
       "      <td>17515.271536</td>\n",
       "      <td>7087.964723</td>\n",
       "      <td>-654.227737</td>\n",
       "      <td>...</td>\n",
       "      <td>0.804294</td>\n",
       "      <td>2613.299992</td>\n",
       "      <td>1559.193931</td>\n",
       "      <td>9.827415</td>\n",
       "      <td>7.663088</td>\n",
       "      <td>0.014864</td>\n",
       "      <td>38841.597812</td>\n",
       "      <td>6581.382064</td>\n",
       "      <td>ACTIVO</td>\n",
       "      <td>1211</td>\n",
       "    </tr>\n",
       "    <tr>\n",
       "      <th>6</th>\n",
       "      <td>7</td>\n",
       "      <td>3.901895</td>\n",
       "      <td>0.001115</td>\n",
       "      <td>94.802297</td>\n",
       "      <td>0.000000</td>\n",
       "      <td>0.000000</td>\n",
       "      <td>-14658.323523</td>\n",
       "      <td>14822.946232</td>\n",
       "      <td>5925.762765</td>\n",
       "      <td>691.957815</td>\n",
       "      <td>...</td>\n",
       "      <td>0.003344</td>\n",
       "      <td>14.214426</td>\n",
       "      <td>1594.062586</td>\n",
       "      <td>1.997770</td>\n",
       "      <td>2.394649</td>\n",
       "      <td>0.185061</td>\n",
       "      <td>4.576923</td>\n",
       "      <td>0.196154</td>\n",
       "      <td>PASIVO</td>\n",
       "      <td>897</td>\n",
       "    </tr>\n",
       "  </tbody>\n",
       "</table>\n",
       "<p>7 rows × 42 columns</p>\n",
       "</div>"
      ],
      "text/plain": [
       "   cluster2  Movimientos 90 días  N° Haberes acreditados  \\\n",
       "0         1            30.870205                0.128082   \n",
       "1         2             3.498580                0.005682   \n",
       "2         3             3.558209                0.004478   \n",
       "3         4            33.539120                0.188264   \n",
       "4         5            44.144836                0.127834   \n",
       "5         6            89.029727                0.245252   \n",
       "6         7             3.901895                0.001115   \n",
       "\n",
       "   Monto caja de ahorro  Consumos tarjeta  N° Transacciones tarjeta  \\\n",
       "0          20786.921247       2176.054315                  1.071575   \n",
       "1            183.089176          0.000000                  0.000000   \n",
       "2            117.294075          0.000000                  0.000000   \n",
       "3          15057.162311          0.000000                  0.000000   \n",
       "4          14605.264578       8464.157991                  4.182620   \n",
       "5          29832.403691      35970.594055                 15.525186   \n",
       "6             94.802297          0.000000                  0.000000   \n",
       "\n",
       "    Saldo total  Rentabilidad del banco  Deuda total de préstamos  \\\n",
       "0  36907.991654            13981.868716               6348.930298   \n",
       "1 -41859.813111             8170.528892              16346.450966   \n",
       "2  -3263.078090             4244.016194               1088.482896   \n",
       "3  28783.662078            29342.983900              28747.709120   \n",
       "4  41126.804112            12135.439433               3655.623105   \n",
       "5  76545.675012            17515.271536               7087.964723   \n",
       "6 -14658.323523            14822.946232               5925.762765   \n",
       "\n",
       "   mactivos_margen_name  ...  Adhesión a Homebanking  Débito automatico  \\\n",
       "0            115.072017  ...                0.589726         758.812603   \n",
       "1           -180.027784  ...                0.095170           5.683580   \n",
       "2             75.446269  ...                0.005970           6.233731   \n",
       "3           1714.798350  ...                0.541565         549.791284   \n",
       "4           -189.035730  ...                0.688917         850.067928   \n",
       "5           -654.227737  ...                0.804294        2613.299992   \n",
       "6            691.957815  ...                0.003344          14.214426   \n",
       "\n",
       "   mcomisiones_name  Visa_cconsumos_name  ccomisiones_otras_name  \\\n",
       "0        941.125113             2.161644                3.633562   \n",
       "1        123.134645             2.000000                0.690341   \n",
       "2        355.329209             1.994030                0.761194   \n",
       "3       1143.374548             2.000000                4.364303   \n",
       "4       1157.330372             2.129093                5.944584   \n",
       "5       1559.193931             9.827415                7.663088   \n",
       "6       1594.062586             1.997770                2.394649   \n",
       "\n",
       "   Master_status_name  Transferencias emitidas  mpagomiscuentas_name  \\\n",
       "0            0.533904             17582.084342           2261.608705   \n",
       "1            0.338068                 4.821960              7.191278   \n",
       "2            0.388060                21.858239              0.525224   \n",
       "3            0.212714             12582.207445           2110.771015   \n",
       "4            0.010076             18744.611681           4405.486921   \n",
       "5            0.014864             38841.597812           6581.382064   \n",
       "6            0.185061                 4.576923              0.196154   \n",
       "\n",
       "   Tipo de cliente  Cantidad_cluster  \n",
       "0         MODERADO              2920  \n",
       "1           PASIVO               704  \n",
       "2           PASIVO               670  \n",
       "3         MODERADO               818  \n",
       "4         MODERADO              1588  \n",
       "5           ACTIVO              1211  \n",
       "6           PASIVO               897  \n",
       "\n",
       "[7 rows x 42 columns]"
      ]
     },
     "execution_count": 154,
     "metadata": {},
     "output_type": "execute_result"
    }
   ],
   "source": [
    "df_mean"
   ]
  },
  {
   "cell_type": "code",
   "execution_count": 160,
   "metadata": {},
   "outputs": [
    {
     "data": {
      "application/vnd.plotly.v1+json": {
       "config": {
        "plotlyServerURL": "https://plot.ly"
       },
       "data": [
        {
         "alignmentgroup": "True",
         "customdata": [
          [
           "MODERADO"
          ],
          [
           "MODERADO"
          ],
          [
           "MODERADO"
          ]
         ],
         "hovertemplate": "variable=Movimientos 90 días<br>Tipo de cliente=%{customdata[0]}<br>Grupo segmentado de clientes=%{x}<br>Valor=%{y}<extra></extra>",
         "legendgroup": "Movimientos 90 días, MODERADO",
         "marker": {
          "color": "#636efa",
          "pattern": {
           "shape": ""
          }
         },
         "name": "Movimientos 90 días, MODERADO",
         "offsetgroup": "Movimientos 90 días, MODERADO",
         "orientation": "v",
         "showlegend": true,
         "textposition": "auto",
         "type": "bar",
         "x": [
          1,
          4,
          5
         ],
         "xaxis": "x",
         "y": [
          30.8702054794521,
          33.539119804401,
          44.1448362720403
         ],
         "yaxis": "y"
        },
        {
         "alignmentgroup": "True",
         "customdata": [
          [
           "PASIVO"
          ],
          [
           "PASIVO"
          ],
          [
           "PASIVO"
          ]
         ],
         "hovertemplate": "variable=Movimientos 90 días<br>Tipo de cliente=%{customdata[0]}<br>Grupo segmentado de clientes=%{x}<br>Valor=%{y}<extra></extra>",
         "legendgroup": "Movimientos 90 días, PASIVO",
         "marker": {
          "color": "#636efa",
          "pattern": {
           "shape": "/"
          }
         },
         "name": "Movimientos 90 días, PASIVO",
         "offsetgroup": "Movimientos 90 días, PASIVO",
         "orientation": "v",
         "showlegend": true,
         "textposition": "auto",
         "type": "bar",
         "x": [
          2,
          3,
          7
         ],
         "xaxis": "x",
         "y": [
          3.49857954545455,
          3.55820895522388,
          3.90189520624303
         ],
         "yaxis": "y"
        },
        {
         "alignmentgroup": "True",
         "customdata": [
          [
           "ACTIVO"
          ]
         ],
         "hovertemplate": "variable=Movimientos 90 días<br>Tipo de cliente=%{customdata[0]}<br>Grupo segmentado de clientes=%{x}<br>Valor=%{y}<extra></extra>",
         "legendgroup": "Movimientos 90 días, ACTIVO",
         "marker": {
          "color": "#636efa",
          "pattern": {
           "shape": "\\"
          }
         },
         "name": "Movimientos 90 días, ACTIVO",
         "offsetgroup": "Movimientos 90 días, ACTIVO",
         "orientation": "v",
         "showlegend": true,
         "textposition": "auto",
         "type": "bar",
         "x": [
          6
         ],
         "xaxis": "x",
         "y": [
          89.0297274979356
         ],
         "yaxis": "y"
        },
        {
         "alignmentgroup": "True",
         "customdata": [
          [
           "MODERADO"
          ],
          [
           "MODERADO"
          ],
          [
           "MODERADO"
          ]
         ],
         "hovertemplate": "variable=N° Haberes acreditados<br>Tipo de cliente=%{customdata[0]}<br>Grupo segmentado de clientes=%{x}<br>Valor=%{y}<extra></extra>",
         "legendgroup": "N° Haberes acreditados, MODERADO",
         "marker": {
          "color": "#EF553B",
          "pattern": {
           "shape": ""
          }
         },
         "name": "N° Haberes acreditados, MODERADO",
         "offsetgroup": "N° Haberes acreditados, MODERADO",
         "orientation": "v",
         "showlegend": true,
         "textposition": "auto",
         "type": "bar",
         "x": [
          1,
          4,
          5
         ],
         "xaxis": "x",
         "y": [
          0.128082191780822,
          0.188264058679707,
          0.127833753148615
         ],
         "yaxis": "y"
        },
        {
         "alignmentgroup": "True",
         "customdata": [
          [
           "PASIVO"
          ],
          [
           "PASIVO"
          ],
          [
           "PASIVO"
          ]
         ],
         "hovertemplate": "variable=N° Haberes acreditados<br>Tipo de cliente=%{customdata[0]}<br>Grupo segmentado de clientes=%{x}<br>Valor=%{y}<extra></extra>",
         "legendgroup": "N° Haberes acreditados, PASIVO",
         "marker": {
          "color": "#EF553B",
          "pattern": {
           "shape": "/"
          }
         },
         "name": "N° Haberes acreditados, PASIVO",
         "offsetgroup": "N° Haberes acreditados, PASIVO",
         "orientation": "v",
         "showlegend": true,
         "textposition": "auto",
         "type": "bar",
         "x": [
          2,
          3,
          7
         ],
         "xaxis": "x",
         "y": [
          0.0056818181818181,
          0.0044776119402985,
          0.0011148272017837
         ],
         "yaxis": "y"
        },
        {
         "alignmentgroup": "True",
         "customdata": [
          [
           "ACTIVO"
          ]
         ],
         "hovertemplate": "variable=N° Haberes acreditados<br>Tipo de cliente=%{customdata[0]}<br>Grupo segmentado de clientes=%{x}<br>Valor=%{y}<extra></extra>",
         "legendgroup": "N° Haberes acreditados, ACTIVO",
         "marker": {
          "color": "#EF553B",
          "pattern": {
           "shape": "\\"
          }
         },
         "name": "N° Haberes acreditados, ACTIVO",
         "offsetgroup": "N° Haberes acreditados, ACTIVO",
         "orientation": "v",
         "showlegend": true,
         "textposition": "auto",
         "type": "bar",
         "x": [
          6
         ],
         "xaxis": "x",
         "y": [
          0.245251857968621
         ],
         "yaxis": "y"
        },
        {
         "alignmentgroup": "True",
         "customdata": [
          [
           "MODERADO"
          ],
          [
           "MODERADO"
          ],
          [
           "MODERADO"
          ]
         ],
         "hovertemplate": "variable=Monto caja de ahorro<br>Tipo de cliente=%{customdata[0]}<br>Grupo segmentado de clientes=%{x}<br>Valor=%{y}<extra></extra>",
         "legendgroup": "Monto caja de ahorro, MODERADO",
         "marker": {
          "color": "#00cc96",
          "pattern": {
           "shape": ""
          }
         },
         "name": "Monto caja de ahorro, MODERADO",
         "offsetgroup": "Monto caja de ahorro, MODERADO",
         "orientation": "v",
         "showlegend": true,
         "textposition": "auto",
         "type": "bar",
         "x": [
          1,
          4,
          5
         ],
         "xaxis": "x",
         "y": [
          20786.9212465753,
          15057.1623105134,
          14605.2645780856
         ],
         "yaxis": "y"
        },
        {
         "alignmentgroup": "True",
         "customdata": [
          [
           "PASIVO"
          ],
          [
           "PASIVO"
          ],
          [
           "PASIVO"
          ]
         ],
         "hovertemplate": "variable=Monto caja de ahorro<br>Tipo de cliente=%{customdata[0]}<br>Grupo segmentado de clientes=%{x}<br>Valor=%{y}<extra></extra>",
         "legendgroup": "Monto caja de ahorro, PASIVO",
         "marker": {
          "color": "#00cc96",
          "pattern": {
           "shape": "/"
          }
         },
         "name": "Monto caja de ahorro, PASIVO",
         "offsetgroup": "Monto caja de ahorro, PASIVO",
         "orientation": "v",
         "showlegend": true,
         "textposition": "auto",
         "type": "bar",
         "x": [
          2,
          3,
          7
         ],
         "xaxis": "x",
         "y": [
          183.089176136364,
          117.294074626866,
          94.8022965440357
         ],
         "yaxis": "y"
        },
        {
         "alignmentgroup": "True",
         "customdata": [
          [
           "ACTIVO"
          ]
         ],
         "hovertemplate": "variable=Monto caja de ahorro<br>Tipo de cliente=%{customdata[0]}<br>Grupo segmentado de clientes=%{x}<br>Valor=%{y}<extra></extra>",
         "legendgroup": "Monto caja de ahorro, ACTIVO",
         "marker": {
          "color": "#00cc96",
          "pattern": {
           "shape": "\\"
          }
         },
         "name": "Monto caja de ahorro, ACTIVO",
         "offsetgroup": "Monto caja de ahorro, ACTIVO",
         "orientation": "v",
         "showlegend": true,
         "textposition": "auto",
         "type": "bar",
         "x": [
          6
         ],
         "xaxis": "x",
         "y": [
          29832.4036911643
         ],
         "yaxis": "y"
        },
        {
         "alignmentgroup": "True",
         "customdata": [
          [
           "MODERADO"
          ],
          [
           "MODERADO"
          ],
          [
           "MODERADO"
          ]
         ],
         "hovertemplate": "variable=Consumos tarjeta<br>Tipo de cliente=%{customdata[0]}<br>Grupo segmentado de clientes=%{x}<br>Valor=%{y}<extra></extra>",
         "legendgroup": "Consumos tarjeta, MODERADO",
         "marker": {
          "color": "#ab63fa",
          "pattern": {
           "shape": ""
          }
         },
         "name": "Consumos tarjeta, MODERADO",
         "offsetgroup": "Consumos tarjeta, MODERADO",
         "orientation": "v",
         "showlegend": true,
         "textposition": "auto",
         "type": "bar",
         "x": [
          1,
          4,
          5
         ],
         "xaxis": "x",
         "y": [
          2176.05431506849,
          0,
          8464.15799118388
         ],
         "yaxis": "y"
        },
        {
         "alignmentgroup": "True",
         "customdata": [
          [
           "PASIVO"
          ],
          [
           "PASIVO"
          ],
          [
           "PASIVO"
          ]
         ],
         "hovertemplate": "variable=Consumos tarjeta<br>Tipo de cliente=%{customdata[0]}<br>Grupo segmentado de clientes=%{x}<br>Valor=%{y}<extra></extra>",
         "legendgroup": "Consumos tarjeta, PASIVO",
         "marker": {
          "color": "#ab63fa",
          "pattern": {
           "shape": "/"
          }
         },
         "name": "Consumos tarjeta, PASIVO",
         "offsetgroup": "Consumos tarjeta, PASIVO",
         "orientation": "v",
         "showlegend": true,
         "textposition": "auto",
         "type": "bar",
         "x": [
          2,
          3,
          7
         ],
         "xaxis": "x",
         "y": [
          0,
          0,
          0
         ],
         "yaxis": "y"
        },
        {
         "alignmentgroup": "True",
         "customdata": [
          [
           "ACTIVO"
          ]
         ],
         "hovertemplate": "variable=Consumos tarjeta<br>Tipo de cliente=%{customdata[0]}<br>Grupo segmentado de clientes=%{x}<br>Valor=%{y}<extra></extra>",
         "legendgroup": "Consumos tarjeta, ACTIVO",
         "marker": {
          "color": "#ab63fa",
          "pattern": {
           "shape": "\\"
          }
         },
         "name": "Consumos tarjeta, ACTIVO",
         "offsetgroup": "Consumos tarjeta, ACTIVO",
         "orientation": "v",
         "showlegend": true,
         "textposition": "auto",
         "type": "bar",
         "x": [
          6
         ],
         "xaxis": "x",
         "y": [
          35970.5940545004
         ],
         "yaxis": "y"
        },
        {
         "alignmentgroup": "True",
         "customdata": [
          [
           "MODERADO"
          ],
          [
           "MODERADO"
          ],
          [
           "MODERADO"
          ]
         ],
         "hovertemplate": "variable=N° Transacciones tarjeta<br>Tipo de cliente=%{customdata[0]}<br>Grupo segmentado de clientes=%{x}<br>Valor=%{y}<extra></extra>",
         "legendgroup": "N° Transacciones tarjeta, MODERADO",
         "marker": {
          "color": "#FFA15A",
          "pattern": {
           "shape": ""
          }
         },
         "name": "N° Transacciones tarjeta, MODERADO",
         "offsetgroup": "N° Transacciones tarjeta, MODERADO",
         "orientation": "v",
         "showlegend": true,
         "textposition": "auto",
         "type": "bar",
         "x": [
          1,
          4,
          5
         ],
         "xaxis": "x",
         "y": [
          1.07157534246575,
          0,
          4.18261964735516
         ],
         "yaxis": "y"
        },
        {
         "alignmentgroup": "True",
         "customdata": [
          [
           "PASIVO"
          ],
          [
           "PASIVO"
          ],
          [
           "PASIVO"
          ]
         ],
         "hovertemplate": "variable=N° Transacciones tarjeta<br>Tipo de cliente=%{customdata[0]}<br>Grupo segmentado de clientes=%{x}<br>Valor=%{y}<extra></extra>",
         "legendgroup": "N° Transacciones tarjeta, PASIVO",
         "marker": {
          "color": "#FFA15A",
          "pattern": {
           "shape": "/"
          }
         },
         "name": "N° Transacciones tarjeta, PASIVO",
         "offsetgroup": "N° Transacciones tarjeta, PASIVO",
         "orientation": "v",
         "showlegend": true,
         "textposition": "auto",
         "type": "bar",
         "x": [
          2,
          3,
          7
         ],
         "xaxis": "x",
         "y": [
          0,
          0,
          0
         ],
         "yaxis": "y"
        },
        {
         "alignmentgroup": "True",
         "customdata": [
          [
           "ACTIVO"
          ]
         ],
         "hovertemplate": "variable=N° Transacciones tarjeta<br>Tipo de cliente=%{customdata[0]}<br>Grupo segmentado de clientes=%{x}<br>Valor=%{y}<extra></extra>",
         "legendgroup": "N° Transacciones tarjeta, ACTIVO",
         "marker": {
          "color": "#FFA15A",
          "pattern": {
           "shape": "\\"
          }
         },
         "name": "N° Transacciones tarjeta, ACTIVO",
         "offsetgroup": "N° Transacciones tarjeta, ACTIVO",
         "orientation": "v",
         "showlegend": true,
         "textposition": "auto",
         "type": "bar",
         "x": [
          6
         ],
         "xaxis": "x",
         "y": [
          15.5251857968621
         ],
         "yaxis": "y"
        },
        {
         "alignmentgroup": "True",
         "customdata": [
          [
           "MODERADO"
          ],
          [
           "MODERADO"
          ],
          [
           "MODERADO"
          ]
         ],
         "hovertemplate": "variable=Saldo total<br>Tipo de cliente=%{customdata[0]}<br>Grupo segmentado de clientes=%{x}<br>Valor=%{y}<extra></extra>",
         "legendgroup": "Saldo total, MODERADO",
         "marker": {
          "color": "#19d3f3",
          "pattern": {
           "shape": ""
          }
         },
         "name": "Saldo total, MODERADO",
         "offsetgroup": "Saldo total, MODERADO",
         "orientation": "v",
         "showlegend": true,
         "textposition": "auto",
         "type": "bar",
         "x": [
          1,
          4,
          5
         ],
         "xaxis": "x",
         "y": [
          36907.9916541096,
          28783.6620782396,
          41126.8041120907
         ],
         "yaxis": "y"
        },
        {
         "alignmentgroup": "True",
         "customdata": [
          [
           "PASIVO"
          ],
          [
           "PASIVO"
          ],
          [
           "PASIVO"
          ]
         ],
         "hovertemplate": "variable=Saldo total<br>Tipo de cliente=%{customdata[0]}<br>Grupo segmentado de clientes=%{x}<br>Valor=%{y}<extra></extra>",
         "legendgroup": "Saldo total, PASIVO",
         "marker": {
          "color": "#19d3f3",
          "pattern": {
           "shape": "/"
          }
         },
         "name": "Saldo total, PASIVO",
         "offsetgroup": "Saldo total, PASIVO",
         "orientation": "v",
         "showlegend": true,
         "textposition": "auto",
         "type": "bar",
         "x": [
          2,
          3,
          7
         ],
         "xaxis": "x",
         "y": [
          -41859.8131107955,
          -3263.07808955224,
          -14658.323522854
         ],
         "yaxis": "y"
        },
        {
         "alignmentgroup": "True",
         "customdata": [
          [
           "ACTIVO"
          ]
         ],
         "hovertemplate": "variable=Saldo total<br>Tipo de cliente=%{customdata[0]}<br>Grupo segmentado de clientes=%{x}<br>Valor=%{y}<extra></extra>",
         "legendgroup": "Saldo total, ACTIVO",
         "marker": {
          "color": "#19d3f3",
          "pattern": {
           "shape": "\\"
          }
         },
         "name": "Saldo total, ACTIVO",
         "offsetgroup": "Saldo total, ACTIVO",
         "orientation": "v",
         "showlegend": true,
         "textposition": "auto",
         "type": "bar",
         "x": [
          6
         ],
         "xaxis": "x",
         "y": [
          76545.6750123865
         ],
         "yaxis": "y"
        },
        {
         "alignmentgroup": "True",
         "customdata": [
          [
           "MODERADO"
          ],
          [
           "MODERADO"
          ],
          [
           "MODERADO"
          ]
         ],
         "hovertemplate": "variable=Rentabilidad del banco<br>Tipo de cliente=%{customdata[0]}<br>Grupo segmentado de clientes=%{x}<br>Valor=%{y}<extra></extra>",
         "legendgroup": "Rentabilidad del banco, MODERADO",
         "marker": {
          "color": "#FF6692",
          "pattern": {
           "shape": ""
          }
         },
         "name": "Rentabilidad del banco, MODERADO",
         "offsetgroup": "Rentabilidad del banco, MODERADO",
         "orientation": "v",
         "showlegend": true,
         "textposition": "auto",
         "type": "bar",
         "x": [
          1,
          4,
          5
         ],
         "xaxis": "x",
         "y": [
          13981.8687157534,
          29342.9838997555,
          12135.4394332494
         ],
         "yaxis": "y"
        },
        {
         "alignmentgroup": "True",
         "customdata": [
          [
           "PASIVO"
          ],
          [
           "PASIVO"
          ],
          [
           "PASIVO"
          ]
         ],
         "hovertemplate": "variable=Rentabilidad del banco<br>Tipo de cliente=%{customdata[0]}<br>Grupo segmentado de clientes=%{x}<br>Valor=%{y}<extra></extra>",
         "legendgroup": "Rentabilidad del banco, PASIVO",
         "marker": {
          "color": "#FF6692",
          "pattern": {
           "shape": "/"
          }
         },
         "name": "Rentabilidad del banco, PASIVO",
         "offsetgroup": "Rentabilidad del banco, PASIVO",
         "orientation": "v",
         "showlegend": true,
         "textposition": "auto",
         "type": "bar",
         "x": [
          2,
          3,
          7
         ],
         "xaxis": "x",
         "y": [
          8170.52889204545,
          4244.01619402985,
          14822.9462318841
         ],
         "yaxis": "y"
        },
        {
         "alignmentgroup": "True",
         "customdata": [
          [
           "ACTIVO"
          ]
         ],
         "hovertemplate": "variable=Rentabilidad del banco<br>Tipo de cliente=%{customdata[0]}<br>Grupo segmentado de clientes=%{x}<br>Valor=%{y}<extra></extra>",
         "legendgroup": "Rentabilidad del banco, ACTIVO",
         "marker": {
          "color": "#FF6692",
          "pattern": {
           "shape": "\\"
          }
         },
         "name": "Rentabilidad del banco, ACTIVO",
         "offsetgroup": "Rentabilidad del banco, ACTIVO",
         "orientation": "v",
         "showlegend": true,
         "textposition": "auto",
         "type": "bar",
         "x": [
          6
         ],
         "xaxis": "x",
         "y": [
          17515.2715359207
         ],
         "yaxis": "y"
        },
        {
         "alignmentgroup": "True",
         "customdata": [
          [
           "MODERADO"
          ],
          [
           "MODERADO"
          ],
          [
           "MODERADO"
          ]
         ],
         "hovertemplate": "variable=Deuda total de préstamos<br>Tipo de cliente=%{customdata[0]}<br>Grupo segmentado de clientes=%{x}<br>Valor=%{y}<extra></extra>",
         "legendgroup": "Deuda total de préstamos, MODERADO",
         "marker": {
          "color": "#B6E880",
          "pattern": {
           "shape": ""
          }
         },
         "name": "Deuda total de préstamos, MODERADO",
         "offsetgroup": "Deuda total de préstamos, MODERADO",
         "orientation": "v",
         "showlegend": true,
         "textposition": "auto",
         "type": "bar",
         "x": [
          1,
          4,
          5
         ],
         "xaxis": "x",
         "y": [
          6348.93029794521,
          28747.7091198044,
          3655.62310453401
         ],
         "yaxis": "y"
        },
        {
         "alignmentgroup": "True",
         "customdata": [
          [
           "PASIVO"
          ],
          [
           "PASIVO"
          ],
          [
           "PASIVO"
          ]
         ],
         "hovertemplate": "variable=Deuda total de préstamos<br>Tipo de cliente=%{customdata[0]}<br>Grupo segmentado de clientes=%{x}<br>Valor=%{y}<extra></extra>",
         "legendgroup": "Deuda total de préstamos, PASIVO",
         "marker": {
          "color": "#B6E880",
          "pattern": {
           "shape": "/"
          }
         },
         "name": "Deuda total de préstamos, PASIVO",
         "offsetgroup": "Deuda total de préstamos, PASIVO",
         "orientation": "v",
         "showlegend": true,
         "textposition": "auto",
         "type": "bar",
         "x": [
          2,
          3,
          7
         ],
         "xaxis": "x",
         "y": [
          16346.4509659091,
          1088.48289552239,
          5925.76276477146
         ],
         "yaxis": "y"
        },
        {
         "alignmentgroup": "True",
         "customdata": [
          [
           "ACTIVO"
          ]
         ],
         "hovertemplate": "variable=Deuda total de préstamos<br>Tipo de cliente=%{customdata[0]}<br>Grupo segmentado de clientes=%{x}<br>Valor=%{y}<extra></extra>",
         "legendgroup": "Deuda total de préstamos, ACTIVO",
         "marker": {
          "color": "#B6E880",
          "pattern": {
           "shape": "\\"
          }
         },
         "name": "Deuda total de préstamos, ACTIVO",
         "offsetgroup": "Deuda total de préstamos, ACTIVO",
         "orientation": "v",
         "showlegend": true,
         "textposition": "auto",
         "type": "bar",
         "x": [
          6
         ],
         "xaxis": "x",
         "y": [
          7087.96472336912
         ],
         "yaxis": "y"
        },
        {
         "alignmentgroup": "True",
         "customdata": [
          [
           "MODERADO"
          ],
          [
           "MODERADO"
          ],
          [
           "MODERADO"
          ]
         ],
         "hovertemplate": "variable=Débito automatico<br>Tipo de cliente=%{customdata[0]}<br>Grupo segmentado de clientes=%{x}<br>Valor=%{y}<extra></extra>",
         "legendgroup": "Débito automatico, MODERADO",
         "marker": {
          "color": "#FF97FF",
          "pattern": {
           "shape": ""
          }
         },
         "name": "Débito automatico, MODERADO",
         "offsetgroup": "Débito automatico, MODERADO",
         "orientation": "v",
         "showlegend": true,
         "textposition": "auto",
         "type": "bar",
         "x": [
          1,
          4,
          5
         ],
         "xaxis": "x",
         "y": [
          758.812602739726,
          549.791283618582,
          850.067928211587
         ],
         "yaxis": "y"
        },
        {
         "alignmentgroup": "True",
         "customdata": [
          [
           "PASIVO"
          ],
          [
           "PASIVO"
          ],
          [
           "PASIVO"
          ]
         ],
         "hovertemplate": "variable=Débito automatico<br>Tipo de cliente=%{customdata[0]}<br>Grupo segmentado de clientes=%{x}<br>Valor=%{y}<extra></extra>",
         "legendgroup": "Débito automatico, PASIVO",
         "marker": {
          "color": "#FF97FF",
          "pattern": {
           "shape": "/"
          }
         },
         "name": "Débito automatico, PASIVO",
         "offsetgroup": "Débito automatico, PASIVO",
         "orientation": "v",
         "showlegend": true,
         "textposition": "auto",
         "type": "bar",
         "x": [
          2,
          3,
          7
         ],
         "xaxis": "x",
         "y": [
          5.68357954545455,
          6.23373134328358,
          14.2144258639911
         ],
         "yaxis": "y"
        },
        {
         "alignmentgroup": "True",
         "customdata": [
          [
           "ACTIVO"
          ]
         ],
         "hovertemplate": "variable=Débito automatico<br>Tipo de cliente=%{customdata[0]}<br>Grupo segmentado de clientes=%{x}<br>Valor=%{y}<extra></extra>",
         "legendgroup": "Débito automatico, ACTIVO",
         "marker": {
          "color": "#FF97FF",
          "pattern": {
           "shape": "\\"
          }
         },
         "name": "Débito automatico, ACTIVO",
         "offsetgroup": "Débito automatico, ACTIVO",
         "orientation": "v",
         "showlegend": true,
         "textposition": "auto",
         "type": "bar",
         "x": [
          6
         ],
         "xaxis": "x",
         "y": [
          2613.29999174236
         ],
         "yaxis": "y"
        },
        {
         "alignmentgroup": "True",
         "customdata": [
          [
           "MODERADO"
          ],
          [
           "MODERADO"
          ],
          [
           "MODERADO"
          ]
         ],
         "hovertemplate": "variable=Adhesión a Homebanking<br>Tipo de cliente=%{customdata[0]}<br>Grupo segmentado de clientes=%{x}<br>Valor=%{y}<extra></extra>",
         "legendgroup": "Adhesión a Homebanking, MODERADO",
         "marker": {
          "color": "#FECB52",
          "pattern": {
           "shape": ""
          }
         },
         "name": "Adhesión a Homebanking, MODERADO",
         "offsetgroup": "Adhesión a Homebanking, MODERADO",
         "orientation": "v",
         "showlegend": true,
         "textposition": "auto",
         "type": "bar",
         "x": [
          1,
          4,
          5
         ],
         "xaxis": "x",
         "y": [
          0.58972602739726,
          0.541564792176039,
          0.688916876574307
         ],
         "yaxis": "y"
        },
        {
         "alignmentgroup": "True",
         "customdata": [
          [
           "PASIVO"
          ],
          [
           "PASIVO"
          ],
          [
           "PASIVO"
          ]
         ],
         "hovertemplate": "variable=Adhesión a Homebanking<br>Tipo de cliente=%{customdata[0]}<br>Grupo segmentado de clientes=%{x}<br>Valor=%{y}<extra></extra>",
         "legendgroup": "Adhesión a Homebanking, PASIVO",
         "marker": {
          "color": "#FECB52",
          "pattern": {
           "shape": "/"
          }
         },
         "name": "Adhesión a Homebanking, PASIVO",
         "offsetgroup": "Adhesión a Homebanking, PASIVO",
         "orientation": "v",
         "showlegend": true,
         "textposition": "auto",
         "type": "bar",
         "x": [
          2,
          3,
          7
         ],
         "xaxis": "x",
         "y": [
          0.0951704545454546,
          0.0059701492537313,
          0.0033444816053511
         ],
         "yaxis": "y"
        },
        {
         "alignmentgroup": "True",
         "customdata": [
          [
           "ACTIVO"
          ]
         ],
         "hovertemplate": "variable=Adhesión a Homebanking<br>Tipo de cliente=%{customdata[0]}<br>Grupo segmentado de clientes=%{x}<br>Valor=%{y}<extra></extra>",
         "legendgroup": "Adhesión a Homebanking, ACTIVO",
         "marker": {
          "color": "#FECB52",
          "pattern": {
           "shape": "\\"
          }
         },
         "name": "Adhesión a Homebanking, ACTIVO",
         "offsetgroup": "Adhesión a Homebanking, ACTIVO",
         "orientation": "v",
         "showlegend": true,
         "textposition": "auto",
         "type": "bar",
         "x": [
          6
         ],
         "xaxis": "x",
         "y": [
          0.80429397192403
         ],
         "yaxis": "y"
        },
        {
         "alignmentgroup": "True",
         "customdata": [
          [
           "MODERADO"
          ],
          [
           "MODERADO"
          ],
          [
           "MODERADO"
          ]
         ],
         "hovertemplate": "variable=Transferencias emitidas<br>Tipo de cliente=%{customdata[0]}<br>Grupo segmentado de clientes=%{x}<br>Valor=%{y}<extra></extra>",
         "legendgroup": "Transferencias emitidas, MODERADO",
         "marker": {
          "color": "#636efa",
          "pattern": {
           "shape": ""
          }
         },
         "name": "Transferencias emitidas, MODERADO",
         "offsetgroup": "Transferencias emitidas, MODERADO",
         "orientation": "v",
         "showlegend": true,
         "textposition": "auto",
         "type": "bar",
         "x": [
          1,
          4,
          5
         ],
         "xaxis": "x",
         "y": [
          17582.0843424658,
          12582.2074449878,
          18744.6116813602
         ],
         "yaxis": "y"
        },
        {
         "alignmentgroup": "True",
         "customdata": [
          [
           "PASIVO"
          ],
          [
           "PASIVO"
          ],
          [
           "PASIVO"
          ]
         ],
         "hovertemplate": "variable=Transferencias emitidas<br>Tipo de cliente=%{customdata[0]}<br>Grupo segmentado de clientes=%{x}<br>Valor=%{y}<extra></extra>",
         "legendgroup": "Transferencias emitidas, PASIVO",
         "marker": {
          "color": "#636efa",
          "pattern": {
           "shape": "/"
          }
         },
         "name": "Transferencias emitidas, PASIVO",
         "offsetgroup": "Transferencias emitidas, PASIVO",
         "orientation": "v",
         "showlegend": true,
         "textposition": "auto",
         "type": "bar",
         "x": [
          2,
          3,
          7
         ],
         "xaxis": "x",
         "y": [
          4.82196022727273,
          21.8582388059702,
          4.57692307692308
         ],
         "yaxis": "y"
        },
        {
         "alignmentgroup": "True",
         "customdata": [
          [
           "ACTIVO"
          ]
         ],
         "hovertemplate": "variable=Transferencias emitidas<br>Tipo de cliente=%{customdata[0]}<br>Grupo segmentado de clientes=%{x}<br>Valor=%{y}<extra></extra>",
         "legendgroup": "Transferencias emitidas, ACTIVO",
         "marker": {
          "color": "#636efa",
          "pattern": {
           "shape": "\\"
          }
         },
         "name": "Transferencias emitidas, ACTIVO",
         "offsetgroup": "Transferencias emitidas, ACTIVO",
         "orientation": "v",
         "showlegend": true,
         "textposition": "auto",
         "type": "bar",
         "x": [
          6
         ],
         "xaxis": "x",
         "y": [
          38841.5978117259
         ],
         "yaxis": "y"
        }
       ],
       "layout": {
        "barmode": "relative",
        "legend": {
         "title": {
          "text": "variable, Tipo de cliente"
         },
         "tracegroupgap": 0
        },
        "margin": {
         "t": 60
        },
        "template": {
         "data": {
          "bar": [
           {
            "error_x": {
             "color": "rgb(51,51,51)"
            },
            "error_y": {
             "color": "rgb(51,51,51)"
            },
            "marker": {
             "line": {
              "color": "rgb(237,237,237)",
              "width": 0.5
             },
             "pattern": {
              "fillmode": "overlay",
              "size": 10,
              "solidity": 0.2
             }
            },
            "type": "bar"
           }
          ],
          "barpolar": [
           {
            "marker": {
             "line": {
              "color": "rgb(237,237,237)",
              "width": 0.5
             },
             "pattern": {
              "fillmode": "overlay",
              "size": 10,
              "solidity": 0.2
             }
            },
            "type": "barpolar"
           }
          ],
          "carpet": [
           {
            "aaxis": {
             "endlinecolor": "rgb(51,51,51)",
             "gridcolor": "white",
             "linecolor": "white",
             "minorgridcolor": "white",
             "startlinecolor": "rgb(51,51,51)"
            },
            "baxis": {
             "endlinecolor": "rgb(51,51,51)",
             "gridcolor": "white",
             "linecolor": "white",
             "minorgridcolor": "white",
             "startlinecolor": "rgb(51,51,51)"
            },
            "type": "carpet"
           }
          ],
          "choropleth": [
           {
            "colorbar": {
             "outlinewidth": 0,
             "tickcolor": "rgb(237,237,237)",
             "ticklen": 6,
             "ticks": "inside"
            },
            "type": "choropleth"
           }
          ],
          "contour": [
           {
            "colorbar": {
             "outlinewidth": 0,
             "tickcolor": "rgb(237,237,237)",
             "ticklen": 6,
             "ticks": "inside"
            },
            "colorscale": [
             [
              0,
              "rgb(20,44,66)"
             ],
             [
              1,
              "rgb(90,179,244)"
             ]
            ],
            "type": "contour"
           }
          ],
          "contourcarpet": [
           {
            "colorbar": {
             "outlinewidth": 0,
             "tickcolor": "rgb(237,237,237)",
             "ticklen": 6,
             "ticks": "inside"
            },
            "type": "contourcarpet"
           }
          ],
          "heatmap": [
           {
            "colorbar": {
             "outlinewidth": 0,
             "tickcolor": "rgb(237,237,237)",
             "ticklen": 6,
             "ticks": "inside"
            },
            "colorscale": [
             [
              0,
              "rgb(20,44,66)"
             ],
             [
              1,
              "rgb(90,179,244)"
             ]
            ],
            "type": "heatmap"
           }
          ],
          "heatmapgl": [
           {
            "colorbar": {
             "outlinewidth": 0,
             "tickcolor": "rgb(237,237,237)",
             "ticklen": 6,
             "ticks": "inside"
            },
            "colorscale": [
             [
              0,
              "rgb(20,44,66)"
             ],
             [
              1,
              "rgb(90,179,244)"
             ]
            ],
            "type": "heatmapgl"
           }
          ],
          "histogram": [
           {
            "marker": {
             "pattern": {
              "fillmode": "overlay",
              "size": 10,
              "solidity": 0.2
             }
            },
            "type": "histogram"
           }
          ],
          "histogram2d": [
           {
            "colorbar": {
             "outlinewidth": 0,
             "tickcolor": "rgb(237,237,237)",
             "ticklen": 6,
             "ticks": "inside"
            },
            "colorscale": [
             [
              0,
              "rgb(20,44,66)"
             ],
             [
              1,
              "rgb(90,179,244)"
             ]
            ],
            "type": "histogram2d"
           }
          ],
          "histogram2dcontour": [
           {
            "colorbar": {
             "outlinewidth": 0,
             "tickcolor": "rgb(237,237,237)",
             "ticklen": 6,
             "ticks": "inside"
            },
            "colorscale": [
             [
              0,
              "rgb(20,44,66)"
             ],
             [
              1,
              "rgb(90,179,244)"
             ]
            ],
            "type": "histogram2dcontour"
           }
          ],
          "mesh3d": [
           {
            "colorbar": {
             "outlinewidth": 0,
             "tickcolor": "rgb(237,237,237)",
             "ticklen": 6,
             "ticks": "inside"
            },
            "type": "mesh3d"
           }
          ],
          "parcoords": [
           {
            "line": {
             "colorbar": {
              "outlinewidth": 0,
              "tickcolor": "rgb(237,237,237)",
              "ticklen": 6,
              "ticks": "inside"
             }
            },
            "type": "parcoords"
           }
          ],
          "pie": [
           {
            "automargin": true,
            "type": "pie"
           }
          ],
          "scatter": [
           {
            "fillpattern": {
             "fillmode": "overlay",
             "size": 10,
             "solidity": 0.2
            },
            "type": "scatter"
           }
          ],
          "scatter3d": [
           {
            "line": {
             "colorbar": {
              "outlinewidth": 0,
              "tickcolor": "rgb(237,237,237)",
              "ticklen": 6,
              "ticks": "inside"
             }
            },
            "marker": {
             "colorbar": {
              "outlinewidth": 0,
              "tickcolor": "rgb(237,237,237)",
              "ticklen": 6,
              "ticks": "inside"
             }
            },
            "type": "scatter3d"
           }
          ],
          "scattercarpet": [
           {
            "marker": {
             "colorbar": {
              "outlinewidth": 0,
              "tickcolor": "rgb(237,237,237)",
              "ticklen": 6,
              "ticks": "inside"
             }
            },
            "type": "scattercarpet"
           }
          ],
          "scattergeo": [
           {
            "marker": {
             "colorbar": {
              "outlinewidth": 0,
              "tickcolor": "rgb(237,237,237)",
              "ticklen": 6,
              "ticks": "inside"
             }
            },
            "type": "scattergeo"
           }
          ],
          "scattergl": [
           {
            "marker": {
             "colorbar": {
              "outlinewidth": 0,
              "tickcolor": "rgb(237,237,237)",
              "ticklen": 6,
              "ticks": "inside"
             }
            },
            "type": "scattergl"
           }
          ],
          "scattermapbox": [
           {
            "marker": {
             "colorbar": {
              "outlinewidth": 0,
              "tickcolor": "rgb(237,237,237)",
              "ticklen": 6,
              "ticks": "inside"
             }
            },
            "type": "scattermapbox"
           }
          ],
          "scatterpolar": [
           {
            "marker": {
             "colorbar": {
              "outlinewidth": 0,
              "tickcolor": "rgb(237,237,237)",
              "ticklen": 6,
              "ticks": "inside"
             }
            },
            "type": "scatterpolar"
           }
          ],
          "scatterpolargl": [
           {
            "marker": {
             "colorbar": {
              "outlinewidth": 0,
              "tickcolor": "rgb(237,237,237)",
              "ticklen": 6,
              "ticks": "inside"
             }
            },
            "type": "scatterpolargl"
           }
          ],
          "scatterternary": [
           {
            "marker": {
             "colorbar": {
              "outlinewidth": 0,
              "tickcolor": "rgb(237,237,237)",
              "ticklen": 6,
              "ticks": "inside"
             }
            },
            "type": "scatterternary"
           }
          ],
          "surface": [
           {
            "colorbar": {
             "outlinewidth": 0,
             "tickcolor": "rgb(237,237,237)",
             "ticklen": 6,
             "ticks": "inside"
            },
            "colorscale": [
             [
              0,
              "rgb(20,44,66)"
             ],
             [
              1,
              "rgb(90,179,244)"
             ]
            ],
            "type": "surface"
           }
          ],
          "table": [
           {
            "cells": {
             "fill": {
              "color": "rgb(237,237,237)"
             },
             "line": {
              "color": "white"
             }
            },
            "header": {
             "fill": {
              "color": "rgb(217,217,217)"
             },
             "line": {
              "color": "white"
             }
            },
            "type": "table"
           }
          ]
         },
         "layout": {
          "annotationdefaults": {
           "arrowhead": 0,
           "arrowwidth": 1
          },
          "autotypenumbers": "strict",
          "coloraxis": {
           "colorbar": {
            "outlinewidth": 0,
            "tickcolor": "rgb(237,237,237)",
            "ticklen": 6,
            "ticks": "inside"
           }
          },
          "colorscale": {
           "sequential": [
            [
             0,
             "rgb(20,44,66)"
            ],
            [
             1,
             "rgb(90,179,244)"
            ]
           ],
           "sequentialminus": [
            [
             0,
             "rgb(20,44,66)"
            ],
            [
             1,
             "rgb(90,179,244)"
            ]
           ]
          },
          "colorway": [
           "#F8766D",
           "#A3A500",
           "#00BF7D",
           "#00B0F6",
           "#E76BF3"
          ],
          "font": {
           "color": "rgb(51,51,51)"
          },
          "geo": {
           "bgcolor": "white",
           "lakecolor": "white",
           "landcolor": "rgb(237,237,237)",
           "showlakes": true,
           "showland": true,
           "subunitcolor": "white"
          },
          "hoverlabel": {
           "align": "left"
          },
          "hovermode": "closest",
          "paper_bgcolor": "white",
          "plot_bgcolor": "rgb(237,237,237)",
          "polar": {
           "angularaxis": {
            "gridcolor": "white",
            "linecolor": "white",
            "showgrid": true,
            "tickcolor": "rgb(51,51,51)",
            "ticks": "outside"
           },
           "bgcolor": "rgb(237,237,237)",
           "radialaxis": {
            "gridcolor": "white",
            "linecolor": "white",
            "showgrid": true,
            "tickcolor": "rgb(51,51,51)",
            "ticks": "outside"
           }
          },
          "scene": {
           "xaxis": {
            "backgroundcolor": "rgb(237,237,237)",
            "gridcolor": "white",
            "gridwidth": 2,
            "linecolor": "white",
            "showbackground": true,
            "showgrid": true,
            "tickcolor": "rgb(51,51,51)",
            "ticks": "outside",
            "zerolinecolor": "white"
           },
           "yaxis": {
            "backgroundcolor": "rgb(237,237,237)",
            "gridcolor": "white",
            "gridwidth": 2,
            "linecolor": "white",
            "showbackground": true,
            "showgrid": true,
            "tickcolor": "rgb(51,51,51)",
            "ticks": "outside",
            "zerolinecolor": "white"
           },
           "zaxis": {
            "backgroundcolor": "rgb(237,237,237)",
            "gridcolor": "white",
            "gridwidth": 2,
            "linecolor": "white",
            "showbackground": true,
            "showgrid": true,
            "tickcolor": "rgb(51,51,51)",
            "ticks": "outside",
            "zerolinecolor": "white"
           }
          },
          "shapedefaults": {
           "fillcolor": "black",
           "line": {
            "width": 0
           },
           "opacity": 0.3
          },
          "ternary": {
           "aaxis": {
            "gridcolor": "white",
            "linecolor": "white",
            "showgrid": true,
            "tickcolor": "rgb(51,51,51)",
            "ticks": "outside"
           },
           "baxis": {
            "gridcolor": "white",
            "linecolor": "white",
            "showgrid": true,
            "tickcolor": "rgb(51,51,51)",
            "ticks": "outside"
           },
           "bgcolor": "rgb(237,237,237)",
           "caxis": {
            "gridcolor": "white",
            "linecolor": "white",
            "showgrid": true,
            "tickcolor": "rgb(51,51,51)",
            "ticks": "outside"
           }
          },
          "xaxis": {
           "automargin": true,
           "gridcolor": "white",
           "linecolor": "white",
           "showgrid": true,
           "tickcolor": "rgb(51,51,51)",
           "ticks": "outside",
           "title": {
            "standoff": 15
           },
           "zerolinecolor": "white"
          },
          "yaxis": {
           "automargin": true,
           "gridcolor": "white",
           "linecolor": "white",
           "showgrid": true,
           "tickcolor": "rgb(51,51,51)",
           "ticks": "outside",
           "title": {
            "standoff": 15
           },
           "zerolinecolor": "white"
          }
         }
        },
        "title": {
         "text": "Valores medios de variables de interés"
        },
        "xaxis": {
         "anchor": "y",
         "categoryarray": [
          "PASIVO",
          "MODERADO",
          "ACTIVO"
         ],
         "categoryorder": "array",
         "domain": [
          0,
          1
         ],
         "title": {
          "text": "Grupo segmentado de clientes"
         }
        },
        "yaxis": {
         "anchor": "x",
         "domain": [
          0,
          1
         ],
         "title": {
          "text": "Valor"
         }
        }
       }
      }
     },
     "metadata": {},
     "output_type": "display_data"
    }
   ],
   "source": [
    "import plotly.express as px\n",
    "\n",
    "fig = px.bar(df_mean, x=\"cluster2\", y=labels,labels={'cluster2': 'Grupo segmentado de clientes', 'value':'Valor'},hover_data=['Tipo de cliente'], pattern_shape = 'Tipo de cliente')\n",
    "fig.update_xaxes(categoryorder='array', categoryarray= ['PASIVO','MODERADO','ACTIVO'])\n",
    "fig.update_layout(title=\"Valores medios de variables de interés\",template='ggplot2')\n",
    "fig.show()\n",
    "fig.write_html(r'D:\\OneDrive\\Personal\\Maestria Data Mining\\economia_finanzas\\labo\\src\\clustering\\Variables de interes.html')"
   ]
  },
  {
   "cell_type": "code",
   "execution_count": 137,
   "metadata": {},
   "outputs": [
    {
     "data": {
      "text/html": [
       "<div>\n",
       "<style scoped>\n",
       "    .dataframe tbody tr th:only-of-type {\n",
       "        vertical-align: middle;\n",
       "    }\n",
       "\n",
       "    .dataframe tbody tr th {\n",
       "        vertical-align: top;\n",
       "    }\n",
       "\n",
       "    .dataframe thead th {\n",
       "        text-align: right;\n",
       "    }\n",
       "</style>\n",
       "<table border=\"1\" class=\"dataframe\">\n",
       "  <thead>\n",
       "    <tr style=\"text-align: right;\">\n",
       "      <th></th>\n",
       "      <th>cluster2</th>\n",
       "      <th>Movimientos 90 días</th>\n",
       "      <th>N° Haberes acreditados</th>\n",
       "      <th>Monto caja de ahorro</th>\n",
       "      <th>Consumos tarjeta</th>\n",
       "      <th>N° Transacciones tarjeta</th>\n",
       "      <th>Saldo total</th>\n",
       "      <th>Rentabilidad del banco</th>\n",
       "      <th>Deuda total de préstamos</th>\n",
       "      <th>mactivos_margen_name</th>\n",
       "      <th>...</th>\n",
       "      <th>cproductos_name</th>\n",
       "      <th>mcomisiones_otras_name</th>\n",
       "      <th>Adhesión a Homebanking</th>\n",
       "      <th>Débito automatico</th>\n",
       "      <th>mcomisiones_name</th>\n",
       "      <th>Visa_cconsumos_name</th>\n",
       "      <th>ccomisiones_otras_name</th>\n",
       "      <th>Master_status_name</th>\n",
       "      <th>Transferencias emitidas</th>\n",
       "      <th>mpagomiscuentas_name</th>\n",
       "    </tr>\n",
       "  </thead>\n",
       "  <tbody>\n",
       "    <tr>\n",
       "      <th>0</th>\n",
       "      <td>MODERADO</td>\n",
       "      <td>30.870205</td>\n",
       "      <td>0.128082</td>\n",
       "      <td>20786.921247</td>\n",
       "      <td>2176.054315</td>\n",
       "      <td>1.071575</td>\n",
       "      <td>36907.991654</td>\n",
       "      <td>13981.868716</td>\n",
       "      <td>6348.930298</td>\n",
       "      <td>115.072017</td>\n",
       "      <td>...</td>\n",
       "      <td>6.733904</td>\n",
       "      <td>941.918226</td>\n",
       "      <td>0.589726</td>\n",
       "      <td>758.812603</td>\n",
       "      <td>941.125113</td>\n",
       "      <td>2.161644</td>\n",
       "      <td>3.633562</td>\n",
       "      <td>0.533904</td>\n",
       "      <td>17582.084342</td>\n",
       "      <td>2261.608705</td>\n",
       "    </tr>\n",
       "    <tr>\n",
       "      <th>1</th>\n",
       "      <td>2</td>\n",
       "      <td>3.498580</td>\n",
       "      <td>0.005682</td>\n",
       "      <td>183.089176</td>\n",
       "      <td>0.000000</td>\n",
       "      <td>0.000000</td>\n",
       "      <td>-41859.813111</td>\n",
       "      <td>8170.528892</td>\n",
       "      <td>16346.450966</td>\n",
       "      <td>-180.027784</td>\n",
       "      <td>...</td>\n",
       "      <td>4.866477</td>\n",
       "      <td>123.135142</td>\n",
       "      <td>0.095170</td>\n",
       "      <td>5.683580</td>\n",
       "      <td>123.134645</td>\n",
       "      <td>2.000000</td>\n",
       "      <td>0.690341</td>\n",
       "      <td>0.338068</td>\n",
       "      <td>4.821960</td>\n",
       "      <td>7.191278</td>\n",
       "    </tr>\n",
       "    <tr>\n",
       "      <th>2</th>\n",
       "      <td>3</td>\n",
       "      <td>3.558209</td>\n",
       "      <td>0.004478</td>\n",
       "      <td>117.294075</td>\n",
       "      <td>0.000000</td>\n",
       "      <td>0.000000</td>\n",
       "      <td>-3263.078090</td>\n",
       "      <td>4244.016194</td>\n",
       "      <td>1088.482896</td>\n",
       "      <td>75.446269</td>\n",
       "      <td>...</td>\n",
       "      <td>6.359701</td>\n",
       "      <td>355.329209</td>\n",
       "      <td>0.005970</td>\n",
       "      <td>6.233731</td>\n",
       "      <td>355.329209</td>\n",
       "      <td>1.994030</td>\n",
       "      <td>0.761194</td>\n",
       "      <td>0.388060</td>\n",
       "      <td>21.858239</td>\n",
       "      <td>0.525224</td>\n",
       "    </tr>\n",
       "    <tr>\n",
       "      <th>3</th>\n",
       "      <td>MODERADO</td>\n",
       "      <td>33.539120</td>\n",
       "      <td>0.188264</td>\n",
       "      <td>15057.162311</td>\n",
       "      <td>0.000000</td>\n",
       "      <td>0.000000</td>\n",
       "      <td>28783.662078</td>\n",
       "      <td>29342.983900</td>\n",
       "      <td>28747.709120</td>\n",
       "      <td>1714.798350</td>\n",
       "      <td>...</td>\n",
       "      <td>5.389976</td>\n",
       "      <td>1142.939670</td>\n",
       "      <td>0.541565</td>\n",
       "      <td>549.791284</td>\n",
       "      <td>1143.374548</td>\n",
       "      <td>2.000000</td>\n",
       "      <td>4.364303</td>\n",
       "      <td>0.212714</td>\n",
       "      <td>12582.207445</td>\n",
       "      <td>2110.771015</td>\n",
       "    </tr>\n",
       "    <tr>\n",
       "      <th>4</th>\n",
       "      <td>MODERADO</td>\n",
       "      <td>44.144836</td>\n",
       "      <td>0.127834</td>\n",
       "      <td>14605.264578</td>\n",
       "      <td>8464.157991</td>\n",
       "      <td>4.182620</td>\n",
       "      <td>41126.804112</td>\n",
       "      <td>12135.439433</td>\n",
       "      <td>3655.623105</td>\n",
       "      <td>-189.035730</td>\n",
       "      <td>...</td>\n",
       "      <td>7.018892</td>\n",
       "      <td>1158.121770</td>\n",
       "      <td>0.688917</td>\n",
       "      <td>850.067928</td>\n",
       "      <td>1157.330372</td>\n",
       "      <td>2.129093</td>\n",
       "      <td>5.944584</td>\n",
       "      <td>0.010076</td>\n",
       "      <td>18744.611681</td>\n",
       "      <td>4405.486921</td>\n",
       "    </tr>\n",
       "    <tr>\n",
       "      <th>5</th>\n",
       "      <td>6</td>\n",
       "      <td>89.029727</td>\n",
       "      <td>0.245252</td>\n",
       "      <td>29832.403691</td>\n",
       "      <td>35970.594055</td>\n",
       "      <td>15.525186</td>\n",
       "      <td>76545.675012</td>\n",
       "      <td>17515.271536</td>\n",
       "      <td>7087.964723</td>\n",
       "      <td>-654.227737</td>\n",
       "      <td>...</td>\n",
       "      <td>7.239472</td>\n",
       "      <td>1560.248183</td>\n",
       "      <td>0.804294</td>\n",
       "      <td>2613.299992</td>\n",
       "      <td>1559.193931</td>\n",
       "      <td>9.827415</td>\n",
       "      <td>7.663088</td>\n",
       "      <td>0.014864</td>\n",
       "      <td>38841.597812</td>\n",
       "      <td>6581.382064</td>\n",
       "    </tr>\n",
       "    <tr>\n",
       "      <th>6</th>\n",
       "      <td>7</td>\n",
       "      <td>3.901895</td>\n",
       "      <td>0.001115</td>\n",
       "      <td>94.802297</td>\n",
       "      <td>0.000000</td>\n",
       "      <td>0.000000</td>\n",
       "      <td>-14658.323523</td>\n",
       "      <td>14822.946232</td>\n",
       "      <td>5925.762765</td>\n",
       "      <td>691.957815</td>\n",
       "      <td>...</td>\n",
       "      <td>5.544036</td>\n",
       "      <td>1594.007458</td>\n",
       "      <td>0.003344</td>\n",
       "      <td>14.214426</td>\n",
       "      <td>1594.062586</td>\n",
       "      <td>1.997770</td>\n",
       "      <td>2.394649</td>\n",
       "      <td>0.185061</td>\n",
       "      <td>4.576923</td>\n",
       "      <td>0.196154</td>\n",
       "    </tr>\n",
       "  </tbody>\n",
       "</table>\n",
       "<p>7 rows × 40 columns</p>\n",
       "</div>"
      ],
      "text/plain": [
       "   cluster2  Movimientos 90 días  N° Haberes acreditados  \\\n",
       "0  MODERADO            30.870205                0.128082   \n",
       "1         2             3.498580                0.005682   \n",
       "2         3             3.558209                0.004478   \n",
       "3  MODERADO            33.539120                0.188264   \n",
       "4  MODERADO            44.144836                0.127834   \n",
       "5         6            89.029727                0.245252   \n",
       "6         7             3.901895                0.001115   \n",
       "\n",
       "   Monto caja de ahorro  Consumos tarjeta  N° Transacciones tarjeta  \\\n",
       "0          20786.921247       2176.054315                  1.071575   \n",
       "1            183.089176          0.000000                  0.000000   \n",
       "2            117.294075          0.000000                  0.000000   \n",
       "3          15057.162311          0.000000                  0.000000   \n",
       "4          14605.264578       8464.157991                  4.182620   \n",
       "5          29832.403691      35970.594055                 15.525186   \n",
       "6             94.802297          0.000000                  0.000000   \n",
       "\n",
       "    Saldo total  Rentabilidad del banco  Deuda total de préstamos  \\\n",
       "0  36907.991654            13981.868716               6348.930298   \n",
       "1 -41859.813111             8170.528892              16346.450966   \n",
       "2  -3263.078090             4244.016194               1088.482896   \n",
       "3  28783.662078            29342.983900              28747.709120   \n",
       "4  41126.804112            12135.439433               3655.623105   \n",
       "5  76545.675012            17515.271536               7087.964723   \n",
       "6 -14658.323523            14822.946232               5925.762765   \n",
       "\n",
       "   mactivos_margen_name  ...  cproductos_name  mcomisiones_otras_name  \\\n",
       "0            115.072017  ...         6.733904              941.918226   \n",
       "1           -180.027784  ...         4.866477              123.135142   \n",
       "2             75.446269  ...         6.359701              355.329209   \n",
       "3           1714.798350  ...         5.389976             1142.939670   \n",
       "4           -189.035730  ...         7.018892             1158.121770   \n",
       "5           -654.227737  ...         7.239472             1560.248183   \n",
       "6            691.957815  ...         5.544036             1594.007458   \n",
       "\n",
       "   Adhesión a Homebanking  Débito automatico  mcomisiones_name  \\\n",
       "0                0.589726         758.812603        941.125113   \n",
       "1                0.095170           5.683580        123.134645   \n",
       "2                0.005970           6.233731        355.329209   \n",
       "3                0.541565         549.791284       1143.374548   \n",
       "4                0.688917         850.067928       1157.330372   \n",
       "5                0.804294        2613.299992       1559.193931   \n",
       "6                0.003344          14.214426       1594.062586   \n",
       "\n",
       "   Visa_cconsumos_name  ccomisiones_otras_name  Master_status_name  \\\n",
       "0             2.161644                3.633562            0.533904   \n",
       "1             2.000000                0.690341            0.338068   \n",
       "2             1.994030                0.761194            0.388060   \n",
       "3             2.000000                4.364303            0.212714   \n",
       "4             2.129093                5.944584            0.010076   \n",
       "5             9.827415                7.663088            0.014864   \n",
       "6             1.997770                2.394649            0.185061   \n",
       "\n",
       "   Transferencias emitidas  mpagomiscuentas_name  \n",
       "0             17582.084342           2261.608705  \n",
       "1                 4.821960              7.191278  \n",
       "2                21.858239              0.525224  \n",
       "3             12582.207445           2110.771015  \n",
       "4             18744.611681           4405.486921  \n",
       "5             38841.597812           6581.382064  \n",
       "6                 4.576923              0.196154  \n",
       "\n",
       "[7 rows x 40 columns]"
      ]
     },
     "execution_count": 137,
     "metadata": {},
     "output_type": "execute_result"
    }
   ],
   "source": [
    "df_mean"
   ]
  }
 ],
 "metadata": {
  "kernelspec": {
   "display_name": "Python 3.10.6 64-bit",
   "language": "python",
   "name": "python3"
  },
  "language_info": {
   "codemirror_mode": {
    "name": "ipython",
    "version": 3
   },
   "file_extension": ".py",
   "mimetype": "text/x-python",
   "name": "python",
   "nbconvert_exporter": "python",
   "pygments_lexer": "ipython3",
   "version": "3.10.6"
  },
  "orig_nbformat": 4,
  "vscode": {
   "interpreter": {
    "hash": "63413d40248b15c5e3979e4e9ac9f50870b25d2b4b7e5c66b4da92bd9f0fa5ed"
   }
  }
 },
 "nbformat": 4,
 "nbformat_minor": 2
}
